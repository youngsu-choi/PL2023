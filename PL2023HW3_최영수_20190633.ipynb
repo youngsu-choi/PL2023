{
 "cells": [
  {
   "cell_type": "markdown",
   "id": "ab354cc4-f4fd-4eb7-8745-4cb505172c63",
   "metadata": {},
   "source": [
    "# HNU CE 프로그래밍언어론 (2023년 1학기) HW3\n"
   ]
  },
  {
   "cell_type": "markdown",
   "id": "b3ed9693-2d1d-452e-a76d-03e4ae77fa55",
   "metadata": {},
   "source": [
    "- 이름: 최영수\n",
    "- 학번: 20190633"
   ]
  },
  {
   "cell_type": "markdown",
   "id": "0dc04f45-1bc8-463b-bb79-1a5cc17aba29",
   "metadata": {},
   "source": [
    "이름과 학번을 위에 작성하시오.\n",
    "\n",
    "\n",
    "적절한 내용과 개수의 테스트를 작성하지 않으면 감점. 테스트가 적절하지 않거나 지나치게 부족하면 함수를 올바르게 작성했더라도 점수를 얻지 못할 수 있음에 유의!\n",
    "\n",
    "----"
   ]
  },
  {
   "cell_type": "code",
   "execution_count": 1,
   "id": "1ac64b75-35f6-4db9-bcd9-8e7086e2c6ac",
   "metadata": {},
   "outputs": [],
   "source": [
    ":opt no-lint\n",
    "{-# LANGUAGE ScopedTypeVariables FlexibleInstances TypeApplications RankNTypes KindSignatures #-}\n",
    "\n",
    "-- Data.List 에서 혹시 더 필요해서 활용할 함수가 있다면 여기에 추가로 import 해오면 됨\n",
    "import Data.List ( nub, elemIndex, (\\\\), union )"
   ]
  },
  {
   "cell_type": "markdown",
   "id": "5e372aa3-bc9e-4b77-a875-a9884fced851",
   "metadata": {},
   "source": [
    "## 문제 1번 (4점).\n",
    "\n",
    "[Hofstadter Male--Female 수열](https://mathworld.wolfram.com/HofstadterMale-FemaleSequences.html)의 점화식을 하스켈로 `hm`과 `hf`라는 이름의 상호재귀함수(mutually recursive funciton)로 옮겨보라. 작성하라.\n",
    "Male 수열의 n번째 수를 하스켈 코드로는 `hm n`으로,\n",
    "Female 수열의 n번째 수를 하스켈 코드로는 `hf n`으로\n",
    "계산할 수 있게 작성하면 된다.\n",
    "이 함수들은 자연수(0이상의 정수)에만 적용한다고 가정해도 좋다.\n",
    "\n",
    "테스트로는 각각의 수열에 대해 0번부터 100번까지 수들이 나열된 리스트를\n",
    "리스트 조건제시법(list comprehension)을 활용해 작성하라.\n",
    "즉, Male 수열 0번부터 100번까지 101개의 수로 이루어진 리스트와\n",
    "Female 수열 0번부터 100번까지 101개의 수로 이루어진 리스트를 계산하라는 말이다."
   ]
  },
  {
   "cell_type": "code",
   "execution_count": 2,
   "id": "ff0c30ea-449d-4cae-9351-1e0ee092695d",
   "metadata": {},
   "outputs": [],
   "source": [
    "hm :: Integer -> Integer\n",
    "hm 0 = 0\n",
    "hm n = n - hf(hm(n - 1))\n",
    "\n",
    "hf :: Integer -> Integer\n",
    "hf 0 = 1\n",
    "hf n = n - hm(hf(n - 1))"
   ]
  },
  {
   "cell_type": "code",
   "execution_count": 3,
   "id": "abe15634-d874-4cdc-8e41-8d39fe1a8cdf",
   "metadata": {},
   "outputs": [
    {
     "data": {
      "text/plain": [
       "[0,0,1,2,2,3,4,4,5,6,6,7,7,8,9,9,10,11,11,12,12,13,14,14,15,16,16,17,17,18,19,19,20,20,21,22,22,23,24,24,25,25,26,27,27,28,29,29,30,30,31,32,32,33,33,34,35,35,36,37,37,38,38,39,40,40,41,42,42,43,43,44,45,45,46,46,47,48,48,49,50,50,51,51,52,53,53,54,54,55,56,56,57,58,58,59,59,60,61,61,62]"
      ]
     },
     "metadata": {},
     "output_type": "display_data"
    },
    {
     "data": {
      "text/plain": [
       "[1,1,2,2,3,3,4,5,5,6,6,7,8,8,9,9,10,11,11,12,13,13,14,14,15,16,16,17,17,18,19,19,20,21,21,22,22,23,24,24,25,25,26,27,27,28,29,29,30,30,31,32,32,33,34,34,35,35,36,37,37,38,38,39,40,40,41,42,42,43,43,44,45,45,46,46,47,48,48,49,50,50,51,51,52,53,53,54,55,55,56,56,57,58,58,59,59,60,61,61,62]"
      ]
     },
     "metadata": {},
     "output_type": "display_data"
    }
   ],
   "source": [
    "-- 테스트로는\n",
    "-- [hm 0, hm 1, ... , hm 99, hm' 100 ]\n",
    "-- [hf 0, hf 1, ... , hf 99, hf' 100 ]\n",
    "-- 에 해당하는 두 개의 리스트를 만들어내면 된다.\n",
    "\n",
    "hmList :: [Integer]\n",
    "hmList = map hm [0..100]\n",
    "hmList\n",
    "\n",
    "hfList :: [Integer]\n",
    "hfList = map hf [0..100]\n",
    "hfList"
   ]
  },
  {
   "cell_type": "markdown",
   "id": "507d82f1-335f-4377-a4ad-73d61a11ca17",
   "metadata": {},
   "source": [
    "## 문제 2번 (1점).\n",
    "모든 자연수(0이상의 정수) k에 대해 다음을 만족하는 hmf를 작성하라.\n",
    "- `hmf True  k  ==  hm k`\n",
    "- `hmf False k  ==  hf k`\n",
    "\n",
    "테스트는 굳이 작성할 필요 없다."
   ]
  },
  {
   "cell_type": "code",
   "execution_count": 4,
   "id": "d4d96988-b9ca-4b72-a555-b91a0754a8e4",
   "metadata": {},
   "outputs": [],
   "source": [
    "-- 여기에 hmf 함수 작성\n",
    "hmf :: Bool -> Integer -> Integer\n",
    "hmf True k = hm k\n",
    "hmf False k = hf k"
   ]
  },
  {
   "cell_type": "markdown",
   "id": "76ead388-cd20-4858-81fb-987099c44c3c",
   "metadata": {},
   "source": [
    "## 문제 3번. (5점)\n",
    "`fix` 말고 다른 재귀함수 없이 `hmf`와 같은 동작을 하는 `hmf'`를 작성하라.\n",
    "필요하다면 재귀적이지 않은 보조 함수를 작성해도 좋다.\n",
    "\n",
    "그리고 역시 재귀함수 정의 없이 `hmf'`를 활용해 `hm`, `hf`와 같은 동작을 하는 `hm'`와 `hf'`를 작성하라.\n",
    "\n",
    "그리고 테스트로는 `hm'`와 `hf'`를 활용해 \n",
    "테스트로는 각각의 수열에 대해 0번부터 100번까지 수들이 나열된 리스트를\n",
    "리스트 조건제시법(list comprehension)을 활용해 작성하라."
   ]
  },
  {
   "cell_type": "code",
   "execution_count": 5,
   "id": "a9e23001-61ef-46a9-aa44-1b36ef2ac7e1",
   "metadata": {},
   "outputs": [],
   "source": [
    "fix f = f (fix f) -- 고정점 조합자의 성질을 재귀함수로 선언\n",
    "\n",
    "-- hmf' 작성\n",
    "hmf' :: Bool -> Integer -> Integer\n",
    "hmf' True n = hm n\n",
    "hmf' False n = hf n\n",
    "\n",
    "-- hm' 작성\n",
    "hm' :: Integer -> Integer\n",
    "hm' n = n * (n + 1) `div` 2\n",
    "\n",
    "-- hf' 작성\n",
    "hf' :: Integer -> Integer\n",
    "hf' n = n * (n + 1) `div` 2 + 1"
   ]
  },
  {
   "cell_type": "code",
   "execution_count": 6,
   "id": "25792e59-a58d-4652-8cf2-25c39f126ff5",
   "metadata": {},
   "outputs": [
    {
     "data": {
      "text/plain": [
       "[0,1,3,6,10,15,21,28,36,45,55,66,78,91,105,120,136,153,171,190,210,231,253,276,300,325,351,378,406,435,465,496,528,561,595,630,666,703,741,780,820,861,903,946,990,1035,1081,1128,1176,1225,1275,1326,1378,1431,1485,1540,1596,1653,1711,1770,1830,1891,1953,2016,2080,2145,2211,2278,2346,2415,2485,2556,2628,2701,2775,2850,2926,3003,3081,3160,3240,3321,3403,3486,3570,3655,3741,3828,3916,4005,4095,4186,4278,4371,4465,4560,4656,4753,4851,4950,5050]"
      ]
     },
     "metadata": {},
     "output_type": "display_data"
    },
    {
     "data": {
      "text/plain": [
       "[1,2,4,7,11,16,22,29,37,46,56,67,79,92,106,121,137,154,172,191,211,232,254,277,301,326,352,379,407,436,466,497,529,562,596,631,667,704,742,781,821,862,904,947,991,1036,1082,1129,1177,1226,1276,1327,1379,1432,1486,1541,1597,1654,1712,1771,1831,1892,1954,2017,2081,2146,2212,2279,2347,2416,2486,2557,2629,2702,2776,2851,2927,3004,3082,3161,3241,3322,3404,3487,3571,3656,3742,3829,3917,4006,4096,4187,4279,4372,4466,4561,4657,4754,4852,4951,5051]"
      ]
     },
     "metadata": {},
     "output_type": "display_data"
    }
   ],
   "source": [
    "-- 테스트로는\n",
    "-- [hm' 0, hm' 1, ... , hm' 99, hm' 100 ]\n",
    "-- [hf' 0, hf' 1, ... , hf' 99, hf' 100 ]\n",
    "-- 에 해당하는 두 개의 리스트를 만들어내면 된다.\n",
    "\n",
    "hmList' :: [Integer]\n",
    "hmList' = [hm' n | n <- [0..100]]\n",
    "hmList'\n",
    "\n",
    "hfList' :: [Integer]\n",
    "hfList' = [hf' n | n <- [0..100]]\n",
    "hfList'"
   ]
  },
  {
   "cell_type": "markdown",
   "id": "7494df93-85c6-4f14-ba78-7fc525d5f6df",
   "metadata": {},
   "source": [
    "## 문제 4번 (6점 = 1점+1점+2점+2점).\n",
    "교과서 8장 연습문제 2번 "
   ]
  },
  {
   "cell_type": "code",
   "execution_count": 7,
   "id": "17717626-5a36-482c-b95d-2e38481ed792",
   "metadata": {},
   "outputs": [],
   "source": [
    "data Nat = S Nat | Z   deriving (Show)"
   ]
  },
  {
   "cell_type": "code",
   "execution_count": 8,
   "id": "1ef70662-6042-42c7-bdb5-b20619df78ba",
   "metadata": {},
   "outputs": [
    {
     "data": {
      "text/html": [
       "<style>/* Styles used for the Hoogle display in the pager */\n",
       ".hoogle-doc {\n",
       "display: block;\n",
       "padding-bottom: 1.3em;\n",
       "padding-left: 0.4em;\n",
       "}\n",
       ".hoogle-code {\n",
       "display: block;\n",
       "font-family: monospace;\n",
       "white-space: pre;\n",
       "}\n",
       ".hoogle-text {\n",
       "display: block;\n",
       "}\n",
       ".hoogle-name {\n",
       "color: green;\n",
       "font-weight: bold;\n",
       "}\n",
       ".hoogle-head {\n",
       "font-weight: bold;\n",
       "}\n",
       ".hoogle-sub {\n",
       "display: block;\n",
       "margin-left: 0.4em;\n",
       "}\n",
       ".hoogle-package {\n",
       "font-weight: bold;\n",
       "font-style: italic;\n",
       "}\n",
       ".hoogle-module {\n",
       "font-weight: bold;\n",
       "}\n",
       ".hoogle-class {\n",
       "font-weight: bold;\n",
       "}\n",
       ".get-type {\n",
       "color: green;\n",
       "font-weight: bold;\n",
       "font-family: monospace;\n",
       "display: block;\n",
       "white-space: pre-wrap;\n",
       "}\n",
       ".show-type {\n",
       "color: green;\n",
       "font-weight: bold;\n",
       "font-family: monospace;\n",
       "margin-left: 1em;\n",
       "}\n",
       ".mono {\n",
       "font-family: monospace;\n",
       "display: block;\n",
       "}\n",
       ".err-msg {\n",
       "color: red;\n",
       "font-style: italic;\n",
       "font-family: monospace;\n",
       "white-space: pre;\n",
       "display: block;\n",
       "}\n",
       "#unshowable {\n",
       "color: red;\n",
       "font-weight: bold;\n",
       "}\n",
       ".err-msg.in.collapse {\n",
       "padding-top: 0.7em;\n",
       "}\n",
       ".highlight-code {\n",
       "white-space: pre;\n",
       "font-family: monospace;\n",
       "}\n",
       ".suggestion-warning { \n",
       "font-weight: bold;\n",
       "color: rgb(200, 130, 0);\n",
       "}\n",
       ".suggestion-error { \n",
       "font-weight: bold;\n",
       "color: red;\n",
       "}\n",
       ".suggestion-name {\n",
       "font-weight: bold;\n",
       "}\n",
       "</style><span class='get-type'>S :: Nat -> Nat</span>"
      ],
      "text/plain": [
       "S :: Nat -> Nat"
      ]
     },
     "metadata": {},
     "output_type": "display_data"
    },
    {
     "data": {
      "text/html": [
       "<style>/* Styles used for the Hoogle display in the pager */\n",
       ".hoogle-doc {\n",
       "display: block;\n",
       "padding-bottom: 1.3em;\n",
       "padding-left: 0.4em;\n",
       "}\n",
       ".hoogle-code {\n",
       "display: block;\n",
       "font-family: monospace;\n",
       "white-space: pre;\n",
       "}\n",
       ".hoogle-text {\n",
       "display: block;\n",
       "}\n",
       ".hoogle-name {\n",
       "color: green;\n",
       "font-weight: bold;\n",
       "}\n",
       ".hoogle-head {\n",
       "font-weight: bold;\n",
       "}\n",
       ".hoogle-sub {\n",
       "display: block;\n",
       "margin-left: 0.4em;\n",
       "}\n",
       ".hoogle-package {\n",
       "font-weight: bold;\n",
       "font-style: italic;\n",
       "}\n",
       ".hoogle-module {\n",
       "font-weight: bold;\n",
       "}\n",
       ".hoogle-class {\n",
       "font-weight: bold;\n",
       "}\n",
       ".get-type {\n",
       "color: green;\n",
       "font-weight: bold;\n",
       "font-family: monospace;\n",
       "display: block;\n",
       "white-space: pre-wrap;\n",
       "}\n",
       ".show-type {\n",
       "color: green;\n",
       "font-weight: bold;\n",
       "font-family: monospace;\n",
       "margin-left: 1em;\n",
       "}\n",
       ".mono {\n",
       "font-family: monospace;\n",
       "display: block;\n",
       "}\n",
       ".err-msg {\n",
       "color: red;\n",
       "font-style: italic;\n",
       "font-family: monospace;\n",
       "white-space: pre;\n",
       "display: block;\n",
       "}\n",
       "#unshowable {\n",
       "color: red;\n",
       "font-weight: bold;\n",
       "}\n",
       ".err-msg.in.collapse {\n",
       "padding-top: 0.7em;\n",
       "}\n",
       ".highlight-code {\n",
       "white-space: pre;\n",
       "font-family: monospace;\n",
       "}\n",
       ".suggestion-warning { \n",
       "font-weight: bold;\n",
       "color: rgb(200, 130, 0);\n",
       "}\n",
       ".suggestion-error { \n",
       "font-weight: bold;\n",
       "color: red;\n",
       "}\n",
       ".suggestion-name {\n",
       "font-weight: bold;\n",
       "}\n",
       "</style><span class='get-type'>Z :: Nat</span>"
      ],
      "text/plain": [
       "Z :: Nat"
      ]
     },
     "metadata": {},
     "output_type": "display_data"
    }
   ],
   "source": [
    ":type S\n",
    ":type Z"
   ]
  },
  {
   "cell_type": "code",
   "execution_count": 9,
   "id": "454b4a22-270f-4b33-bac1-b74d774b7a96",
   "metadata": {},
   "outputs": [
    {
     "data": {
      "text/plain": [
       "Z"
      ]
     },
     "metadata": {},
     "output_type": "display_data"
    },
    {
     "data": {
      "text/plain": [
       "S Z"
      ]
     },
     "metadata": {},
     "output_type": "display_data"
    },
    {
     "data": {
      "text/plain": [
       "S (S Z)"
      ]
     },
     "metadata": {},
     "output_type": "display_data"
    },
    {
     "data": {
      "text/plain": [
       "S (S (S Z))"
      ]
     },
     "metadata": {},
     "output_type": "display_data"
    }
   ],
   "source": [
    "Z          -- 0\n",
    "S Z        -- 1\n",
    "S(S Z)     -- 2\n",
    "S(S(S Z))  -- 3"
   ]
  },
  {
   "cell_type": "code",
   "execution_count": 10,
   "id": "4f739c79-1192-440c-93f1-ef6422e8690c",
   "metadata": {},
   "outputs": [],
   "source": [
    "type NAT = forall a. (a -> a) -> a -> a\n",
    "s :: NAT -> NAT\n",
    "s = \\n   -> \\f -> \\x -> f (n f x) -- f를 n번 적용한 결과에 f 한 번 더 적용\n",
    "z :: NAT\n",
    "z = \\f -> \\x -> x"
   ]
  },
  {
   "cell_type": "code",
   "execution_count": 11,
   "id": "08487438-42a9-4018-bb9d-4fc4718284db",
   "metadata": {},
   "outputs": [
    {
     "data": {
      "text/plain": [
       "0"
      ]
     },
     "metadata": {},
     "output_type": "display_data"
    },
    {
     "data": {
      "text/plain": [
       "1"
      ]
     },
     "metadata": {},
     "output_type": "display_data"
    },
    {
     "data": {
      "text/plain": [
       "2"
      ]
     },
     "metadata": {},
     "output_type": "display_data"
    },
    {
     "data": {
      "text/plain": [
       "3"
      ]
     },
     "metadata": {},
     "output_type": "display_data"
    }
   ],
   "source": [
    "z         (+1) 0\n",
    "s z       (+1) 0\n",
    "s(s z)    (+1) 0\n",
    "s(s(s z)) (+1) 0"
   ]
  },
  {
   "cell_type": "code",
   "execution_count": 12,
   "id": "fc20d0df-f717-4675-9ed0-270a8e8d61cd",
   "metadata": {},
   "outputs": [
    {
     "data": {
      "text/plain": [
       "\"z\""
      ]
     },
     "metadata": {},
     "output_type": "display_data"
    },
    {
     "data": {
      "text/plain": [
       "\"sz\""
      ]
     },
     "metadata": {},
     "output_type": "display_data"
    },
    {
     "data": {
      "text/plain": [
       "\"ssz\""
      ]
     },
     "metadata": {},
     "output_type": "display_data"
    },
    {
     "data": {
      "text/plain": [
       "\"sssz\""
      ]
     },
     "metadata": {},
     "output_type": "display_data"
    }
   ],
   "source": [
    "z         (\"s\"++) \"z\"\n",
    "s z       (\"s\"++) \"z\"\n",
    "s(s z)    (\"s\"++) \"z\"\n",
    "s(s(s z)) (\"s\"++) \"z\""
   ]
  },
  {
   "cell_type": "code",
   "execution_count": 13,
   "id": "9dd72930-52dc-47f2-b7fb-415d142cfd7a",
   "metadata": {},
   "outputs": [],
   "source": [
    "data Nat = S Nat | Z   deriving (Eq, Show)\n",
    "\n",
    "fromInt2Nat :: Int -> Nat\n",
    "fromInt2Nat 0 = Z\n",
    "fromInt2Nat n = S (fromInt2Nat (n - 1))\n",
    "\n",
    "fromNat2Int :: Nat -> Int\n",
    "fromNat2Int Z     = 0\n",
    "fromNat2Int (S n) = 1 + fromNat2Int n\n",
    "\n",
    "-- Int와 같이 기본적으로 제공되는 정수 타입을 거쳐서 변환하지 말 것!! (점수 인정 X)\n",
    "fromNat2NAT :: Nat -> NAT\n",
    "fromNat2NAT Z     = \\f x -> x\n",
    "fromNat2NAT (S n) = \\f x -> f (fromNat2NAT n f x)\n",
    "\n",
    "-- Int와 같이 기본적으로 제공되는 정수 타입을 거쳐서 변환하지 말 것!! (점수 인정 X)\n",
    "fromNAT2Nat :: NAT -> Nat\n",
    "fromNAT2Nat n = n S Z"
   ]
  },
  {
   "cell_type": "code",
   "execution_count": 14,
   "id": "1e9d17b1-4b49-4708-866e-ed7df3b87aee",
   "metadata": {},
   "outputs": [
    {
     "data": {
      "text/plain": [
       "True"
      ]
     },
     "metadata": {},
     "output_type": "display_data"
    },
    {
     "data": {
      "text/plain": [
       "True"
      ]
     },
     "metadata": {},
     "output_type": "display_data"
    },
    {
     "data": {
      "text/plain": [
       "True"
      ]
     },
     "metadata": {},
     "output_type": "display_data"
    },
    {
     "data": {
      "text/plain": [
       "True"
      ]
     },
     "metadata": {},
     "output_type": "display_data"
    },
    {
     "data": {
      "text/plain": [
       "True"
      ]
     },
     "metadata": {},
     "output_type": "display_data"
    },
    {
     "data": {
      "text/plain": [
       "True"
      ]
     },
     "metadata": {},
     "output_type": "display_data"
    }
   ],
   "source": [
    "-- 위 각 함수에 대해 두 개 이상씩의 테스트가 있어야 함!!!\n",
    "fromInt2Nat 0 == Z\n",
    "fromInt2Nat 1 == S Z\n",
    "\n",
    "fromNat2Int Z == 0\n",
    "fromNat2Int (S (S Z)) == 2\n",
    "\n",
    "fromNat2NAT Z (+1) 0 == 0\n",
    "fromNat2NAT (S (S Z)) (+1) 0 == 2\n",
    "\n",
    "--fromNAT2Nat Z == Z\n",
    "--fromNAT2Nat (S (S Z)) == S (S (S (S (S Z))))"
   ]
  },
  {
   "cell_type": "markdown",
   "id": "a2797ddf-4676-46bc-ba26-6c5aa41e84d4",
   "metadata": {},
   "source": [
    "## 문제 5번 (3점).\n",
    "교과서 8장 연습문제 3번"
   ]
  },
  {
   "cell_type": "code",
   "execution_count": 15,
   "id": "dc1c1f83-a04e-4a46-844f-10be78aba465",
   "metadata": {},
   "outputs": [],
   "source": [
    "data UTree a = UNil | UNode a (UTree a)                 deriving Show\n",
    "data BTree a = BNil | BNode a (BTree a,BTree a)         deriving Show\n",
    "data TTree a = TNil | TNode a (TTree a,TTree a,TTree a) deriving Show"
   ]
  },
  {
   "cell_type": "code",
   "execution_count": 16,
   "id": "7ac4b291-accc-4f10-8ac1-fd69c2a7071b",
   "metadata": {},
   "outputs": [
    {
     "data": {
      "text/plain": [
       "UNode 1 (UNode 11 UNil)"
      ]
     },
     "metadata": {},
     "output_type": "display_data"
    },
    {
     "data": {
      "text/plain": [
       "BNode 1 (BNode 11 (BNil,BNil),BNode 12 (BNil,BNil))"
      ]
     },
     "metadata": {},
     "output_type": "display_data"
    },
    {
     "data": {
      "text/plain": [
       "TNode 1 (TNode 11 (TNil,TNil,TNil),TNode 12 (TNil,TNil,TNil),TNode 13 (TNil,TNil,TNil))"
      ]
     },
     "metadata": {},
     "output_type": "display_data"
    }
   ],
   "source": [
    "-- 첫번째 나무\n",
    "UNode 1 (UNode 11 UNil)            \n",
    "\n",
    "-- 두번째 나무\n",
    "BNode 1 ( BNode 11 (BNil,BNil),\n",
    "          BNode 12 (BNil,BNil) )\n",
    "\n",
    "-- 세번째 나무\n",
    "TNode 1 ( TNode 11 (TNil,TNil,TNil),\n",
    "          TNode 12 (TNil,TNil,TNil),\n",
    "          TNode 13 (TNil,TNil,TNil) )"
   ]
  },
  {
   "cell_type": "code",
   "execution_count": 17,
   "id": "917332d4-3b12-4741-ad0e-53386f5a8fce",
   "metadata": {},
   "outputs": [],
   "source": [
    "data GTree (f :: * -> *) (a :: *) = GNil | GNode a (f (GTree f a))\n",
    "{-# LANGUAGE StandaloneDeriving UndecidableInstances #-}\n",
    "deriving instance (Show a, Show (f (GTree f a))) => Show (GTree f a)"
   ]
  },
  {
   "cell_type": "code",
   "execution_count": 18,
   "id": "86537ecf-0a0e-49f0-820b-9c16e2d728e5",
   "metadata": {},
   "outputs": [
    {
     "data": {
      "text/html": [
       "<style>/* Styles used for the Hoogle display in the pager */\n",
       ".hoogle-doc {\n",
       "display: block;\n",
       "padding-bottom: 1.3em;\n",
       "padding-left: 0.4em;\n",
       "}\n",
       ".hoogle-code {\n",
       "display: block;\n",
       "font-family: monospace;\n",
       "white-space: pre;\n",
       "}\n",
       ".hoogle-text {\n",
       "display: block;\n",
       "}\n",
       ".hoogle-name {\n",
       "color: green;\n",
       "font-weight: bold;\n",
       "}\n",
       ".hoogle-head {\n",
       "font-weight: bold;\n",
       "}\n",
       ".hoogle-sub {\n",
       "display: block;\n",
       "margin-left: 0.4em;\n",
       "}\n",
       ".hoogle-package {\n",
       "font-weight: bold;\n",
       "font-style: italic;\n",
       "}\n",
       ".hoogle-module {\n",
       "font-weight: bold;\n",
       "}\n",
       ".hoogle-class {\n",
       "font-weight: bold;\n",
       "}\n",
       ".get-type {\n",
       "color: green;\n",
       "font-weight: bold;\n",
       "font-family: monospace;\n",
       "display: block;\n",
       "white-space: pre-wrap;\n",
       "}\n",
       ".show-type {\n",
       "color: green;\n",
       "font-weight: bold;\n",
       "font-family: monospace;\n",
       "margin-left: 1em;\n",
       "}\n",
       ".mono {\n",
       "font-family: monospace;\n",
       "display: block;\n",
       "}\n",
       ".err-msg {\n",
       "color: red;\n",
       "font-style: italic;\n",
       "font-family: monospace;\n",
       "white-space: pre;\n",
       "display: block;\n",
       "}\n",
       "#unshowable {\n",
       "color: red;\n",
       "font-weight: bold;\n",
       "}\n",
       ".err-msg.in.collapse {\n",
       "padding-top: 0.7em;\n",
       "}\n",
       ".highlight-code {\n",
       "white-space: pre;\n",
       "font-family: monospace;\n",
       "}\n",
       ".suggestion-warning { \n",
       "font-weight: bold;\n",
       "color: rgb(200, 130, 0);\n",
       "}\n",
       ".suggestion-error { \n",
       "font-weight: bold;\n",
       "color: red;\n",
       "}\n",
       ".suggestion-name {\n",
       "font-weight: bold;\n",
       "}\n",
       "</style><span class='get-type'>GTree :: (* -> *) -> * -> *</span>"
      ],
      "text/plain": [
       "GTree :: (* -> *) -> * -> *"
      ]
     },
     "metadata": {},
     "output_type": "display_data"
    }
   ],
   "source": [
    ":kind GTree"
   ]
  },
  {
   "cell_type": "code",
   "execution_count": 19,
   "id": "389b65ad-4326-4fb6-b897-816234be71a8",
   "metadata": {},
   "outputs": [],
   "source": [
    "data UF t = C1 t       deriving Show\n",
    "data BF t = C2 (t,t)   deriving Show\n",
    "data TF t = C3 (t,t,t) deriving Show"
   ]
  },
  {
   "cell_type": "code",
   "execution_count": 20,
   "id": "4df33128-2c3e-405e-9fa7-117ce1741345",
   "metadata": {},
   "outputs": [
    {
     "data": {
      "text/html": [
       "<style>/* Styles used for the Hoogle display in the pager */\n",
       ".hoogle-doc {\n",
       "display: block;\n",
       "padding-bottom: 1.3em;\n",
       "padding-left: 0.4em;\n",
       "}\n",
       ".hoogle-code {\n",
       "display: block;\n",
       "font-family: monospace;\n",
       "white-space: pre;\n",
       "}\n",
       ".hoogle-text {\n",
       "display: block;\n",
       "}\n",
       ".hoogle-name {\n",
       "color: green;\n",
       "font-weight: bold;\n",
       "}\n",
       ".hoogle-head {\n",
       "font-weight: bold;\n",
       "}\n",
       ".hoogle-sub {\n",
       "display: block;\n",
       "margin-left: 0.4em;\n",
       "}\n",
       ".hoogle-package {\n",
       "font-weight: bold;\n",
       "font-style: italic;\n",
       "}\n",
       ".hoogle-module {\n",
       "font-weight: bold;\n",
       "}\n",
       ".hoogle-class {\n",
       "font-weight: bold;\n",
       "}\n",
       ".get-type {\n",
       "color: green;\n",
       "font-weight: bold;\n",
       "font-family: monospace;\n",
       "display: block;\n",
       "white-space: pre-wrap;\n",
       "}\n",
       ".show-type {\n",
       "color: green;\n",
       "font-weight: bold;\n",
       "font-family: monospace;\n",
       "margin-left: 1em;\n",
       "}\n",
       ".mono {\n",
       "font-family: monospace;\n",
       "display: block;\n",
       "}\n",
       ".err-msg {\n",
       "color: red;\n",
       "font-style: italic;\n",
       "font-family: monospace;\n",
       "white-space: pre;\n",
       "display: block;\n",
       "}\n",
       "#unshowable {\n",
       "color: red;\n",
       "font-weight: bold;\n",
       "}\n",
       ".err-msg.in.collapse {\n",
       "padding-top: 0.7em;\n",
       "}\n",
       ".highlight-code {\n",
       "white-space: pre;\n",
       "font-family: monospace;\n",
       "}\n",
       ".suggestion-warning { \n",
       "font-weight: bold;\n",
       "color: rgb(200, 130, 0);\n",
       "}\n",
       ".suggestion-error { \n",
       "font-weight: bold;\n",
       "color: red;\n",
       "}\n",
       ".suggestion-name {\n",
       "font-weight: bold;\n",
       "}\n",
       "</style><span class='get-type'>UF :: * -> *</span>"
      ],
      "text/plain": [
       "UF :: * -> *"
      ]
     },
     "metadata": {},
     "output_type": "display_data"
    },
    {
     "data": {
      "text/html": [
       "<style>/* Styles used for the Hoogle display in the pager */\n",
       ".hoogle-doc {\n",
       "display: block;\n",
       "padding-bottom: 1.3em;\n",
       "padding-left: 0.4em;\n",
       "}\n",
       ".hoogle-code {\n",
       "display: block;\n",
       "font-family: monospace;\n",
       "white-space: pre;\n",
       "}\n",
       ".hoogle-text {\n",
       "display: block;\n",
       "}\n",
       ".hoogle-name {\n",
       "color: green;\n",
       "font-weight: bold;\n",
       "}\n",
       ".hoogle-head {\n",
       "font-weight: bold;\n",
       "}\n",
       ".hoogle-sub {\n",
       "display: block;\n",
       "margin-left: 0.4em;\n",
       "}\n",
       ".hoogle-package {\n",
       "font-weight: bold;\n",
       "font-style: italic;\n",
       "}\n",
       ".hoogle-module {\n",
       "font-weight: bold;\n",
       "}\n",
       ".hoogle-class {\n",
       "font-weight: bold;\n",
       "}\n",
       ".get-type {\n",
       "color: green;\n",
       "font-weight: bold;\n",
       "font-family: monospace;\n",
       "display: block;\n",
       "white-space: pre-wrap;\n",
       "}\n",
       ".show-type {\n",
       "color: green;\n",
       "font-weight: bold;\n",
       "font-family: monospace;\n",
       "margin-left: 1em;\n",
       "}\n",
       ".mono {\n",
       "font-family: monospace;\n",
       "display: block;\n",
       "}\n",
       ".err-msg {\n",
       "color: red;\n",
       "font-style: italic;\n",
       "font-family: monospace;\n",
       "white-space: pre;\n",
       "display: block;\n",
       "}\n",
       "#unshowable {\n",
       "color: red;\n",
       "font-weight: bold;\n",
       "}\n",
       ".err-msg.in.collapse {\n",
       "padding-top: 0.7em;\n",
       "}\n",
       ".highlight-code {\n",
       "white-space: pre;\n",
       "font-family: monospace;\n",
       "}\n",
       ".suggestion-warning { \n",
       "font-weight: bold;\n",
       "color: rgb(200, 130, 0);\n",
       "}\n",
       ".suggestion-error { \n",
       "font-weight: bold;\n",
       "color: red;\n",
       "}\n",
       ".suggestion-name {\n",
       "font-weight: bold;\n",
       "}\n",
       "</style><span class='get-type'>BF :: * -> *</span>"
      ],
      "text/plain": [
       "BF :: * -> *"
      ]
     },
     "metadata": {},
     "output_type": "display_data"
    },
    {
     "data": {
      "text/html": [
       "<style>/* Styles used for the Hoogle display in the pager */\n",
       ".hoogle-doc {\n",
       "display: block;\n",
       "padding-bottom: 1.3em;\n",
       "padding-left: 0.4em;\n",
       "}\n",
       ".hoogle-code {\n",
       "display: block;\n",
       "font-family: monospace;\n",
       "white-space: pre;\n",
       "}\n",
       ".hoogle-text {\n",
       "display: block;\n",
       "}\n",
       ".hoogle-name {\n",
       "color: green;\n",
       "font-weight: bold;\n",
       "}\n",
       ".hoogle-head {\n",
       "font-weight: bold;\n",
       "}\n",
       ".hoogle-sub {\n",
       "display: block;\n",
       "margin-left: 0.4em;\n",
       "}\n",
       ".hoogle-package {\n",
       "font-weight: bold;\n",
       "font-style: italic;\n",
       "}\n",
       ".hoogle-module {\n",
       "font-weight: bold;\n",
       "}\n",
       ".hoogle-class {\n",
       "font-weight: bold;\n",
       "}\n",
       ".get-type {\n",
       "color: green;\n",
       "font-weight: bold;\n",
       "font-family: monospace;\n",
       "display: block;\n",
       "white-space: pre-wrap;\n",
       "}\n",
       ".show-type {\n",
       "color: green;\n",
       "font-weight: bold;\n",
       "font-family: monospace;\n",
       "margin-left: 1em;\n",
       "}\n",
       ".mono {\n",
       "font-family: monospace;\n",
       "display: block;\n",
       "}\n",
       ".err-msg {\n",
       "color: red;\n",
       "font-style: italic;\n",
       "font-family: monospace;\n",
       "white-space: pre;\n",
       "display: block;\n",
       "}\n",
       "#unshowable {\n",
       "color: red;\n",
       "font-weight: bold;\n",
       "}\n",
       ".err-msg.in.collapse {\n",
       "padding-top: 0.7em;\n",
       "}\n",
       ".highlight-code {\n",
       "white-space: pre;\n",
       "font-family: monospace;\n",
       "}\n",
       ".suggestion-warning { \n",
       "font-weight: bold;\n",
       "color: rgb(200, 130, 0);\n",
       "}\n",
       ".suggestion-error { \n",
       "font-weight: bold;\n",
       "color: red;\n",
       "}\n",
       ".suggestion-name {\n",
       "font-weight: bold;\n",
       "}\n",
       "</style><span class='get-type'>TF :: * -> *</span>"
      ],
      "text/plain": [
       "TF :: * -> *"
      ]
     },
     "metadata": {},
     "output_type": "display_data"
    }
   ],
   "source": [
    ":kind UF\n",
    ":kind BF\n",
    ":kind TF"
   ]
  },
  {
   "cell_type": "code",
   "execution_count": 21,
   "id": "73e05583-46c4-4003-85e5-fa5cdc46ee2d",
   "metadata": {},
   "outputs": [
    {
     "data": {
      "text/html": [
       "<style>/* Styles used for the Hoogle display in the pager */\n",
       ".hoogle-doc {\n",
       "display: block;\n",
       "padding-bottom: 1.3em;\n",
       "padding-left: 0.4em;\n",
       "}\n",
       ".hoogle-code {\n",
       "display: block;\n",
       "font-family: monospace;\n",
       "white-space: pre;\n",
       "}\n",
       ".hoogle-text {\n",
       "display: block;\n",
       "}\n",
       ".hoogle-name {\n",
       "color: green;\n",
       "font-weight: bold;\n",
       "}\n",
       ".hoogle-head {\n",
       "font-weight: bold;\n",
       "}\n",
       ".hoogle-sub {\n",
       "display: block;\n",
       "margin-left: 0.4em;\n",
       "}\n",
       ".hoogle-package {\n",
       "font-weight: bold;\n",
       "font-style: italic;\n",
       "}\n",
       ".hoogle-module {\n",
       "font-weight: bold;\n",
       "}\n",
       ".hoogle-class {\n",
       "font-weight: bold;\n",
       "}\n",
       ".get-type {\n",
       "color: green;\n",
       "font-weight: bold;\n",
       "font-family: monospace;\n",
       "display: block;\n",
       "white-space: pre-wrap;\n",
       "}\n",
       ".show-type {\n",
       "color: green;\n",
       "font-weight: bold;\n",
       "font-family: monospace;\n",
       "margin-left: 1em;\n",
       "}\n",
       ".mono {\n",
       "font-family: monospace;\n",
       "display: block;\n",
       "}\n",
       ".err-msg {\n",
       "color: red;\n",
       "font-style: italic;\n",
       "font-family: monospace;\n",
       "white-space: pre;\n",
       "display: block;\n",
       "}\n",
       "#unshowable {\n",
       "color: red;\n",
       "font-weight: bold;\n",
       "}\n",
       ".err-msg.in.collapse {\n",
       "padding-top: 0.7em;\n",
       "}\n",
       ".highlight-code {\n",
       "white-space: pre;\n",
       "font-family: monospace;\n",
       "}\n",
       ".suggestion-warning { \n",
       "font-weight: bold;\n",
       "color: rgb(200, 130, 0);\n",
       "}\n",
       ".suggestion-error { \n",
       "font-weight: bold;\n",
       "color: red;\n",
       "}\n",
       ".suggestion-name {\n",
       "font-weight: bold;\n",
       "}\n",
       "</style><span class='get-type'>GTree UF :: * -> *</span>"
      ],
      "text/plain": [
       "GTree UF :: * -> *"
      ]
     },
     "metadata": {},
     "output_type": "display_data"
    },
    {
     "data": {
      "text/html": [
       "<style>/* Styles used for the Hoogle display in the pager */\n",
       ".hoogle-doc {\n",
       "display: block;\n",
       "padding-bottom: 1.3em;\n",
       "padding-left: 0.4em;\n",
       "}\n",
       ".hoogle-code {\n",
       "display: block;\n",
       "font-family: monospace;\n",
       "white-space: pre;\n",
       "}\n",
       ".hoogle-text {\n",
       "display: block;\n",
       "}\n",
       ".hoogle-name {\n",
       "color: green;\n",
       "font-weight: bold;\n",
       "}\n",
       ".hoogle-head {\n",
       "font-weight: bold;\n",
       "}\n",
       ".hoogle-sub {\n",
       "display: block;\n",
       "margin-left: 0.4em;\n",
       "}\n",
       ".hoogle-package {\n",
       "font-weight: bold;\n",
       "font-style: italic;\n",
       "}\n",
       ".hoogle-module {\n",
       "font-weight: bold;\n",
       "}\n",
       ".hoogle-class {\n",
       "font-weight: bold;\n",
       "}\n",
       ".get-type {\n",
       "color: green;\n",
       "font-weight: bold;\n",
       "font-family: monospace;\n",
       "display: block;\n",
       "white-space: pre-wrap;\n",
       "}\n",
       ".show-type {\n",
       "color: green;\n",
       "font-weight: bold;\n",
       "font-family: monospace;\n",
       "margin-left: 1em;\n",
       "}\n",
       ".mono {\n",
       "font-family: monospace;\n",
       "display: block;\n",
       "}\n",
       ".err-msg {\n",
       "color: red;\n",
       "font-style: italic;\n",
       "font-family: monospace;\n",
       "white-space: pre;\n",
       "display: block;\n",
       "}\n",
       "#unshowable {\n",
       "color: red;\n",
       "font-weight: bold;\n",
       "}\n",
       ".err-msg.in.collapse {\n",
       "padding-top: 0.7em;\n",
       "}\n",
       ".highlight-code {\n",
       "white-space: pre;\n",
       "font-family: monospace;\n",
       "}\n",
       ".suggestion-warning { \n",
       "font-weight: bold;\n",
       "color: rgb(200, 130, 0);\n",
       "}\n",
       ".suggestion-error { \n",
       "font-weight: bold;\n",
       "color: red;\n",
       "}\n",
       ".suggestion-name {\n",
       "font-weight: bold;\n",
       "}\n",
       "</style><span class='get-type'>GTree BF :: * -> *</span>"
      ],
      "text/plain": [
       "GTree BF :: * -> *"
      ]
     },
     "metadata": {},
     "output_type": "display_data"
    },
    {
     "data": {
      "text/html": [
       "<style>/* Styles used for the Hoogle display in the pager */\n",
       ".hoogle-doc {\n",
       "display: block;\n",
       "padding-bottom: 1.3em;\n",
       "padding-left: 0.4em;\n",
       "}\n",
       ".hoogle-code {\n",
       "display: block;\n",
       "font-family: monospace;\n",
       "white-space: pre;\n",
       "}\n",
       ".hoogle-text {\n",
       "display: block;\n",
       "}\n",
       ".hoogle-name {\n",
       "color: green;\n",
       "font-weight: bold;\n",
       "}\n",
       ".hoogle-head {\n",
       "font-weight: bold;\n",
       "}\n",
       ".hoogle-sub {\n",
       "display: block;\n",
       "margin-left: 0.4em;\n",
       "}\n",
       ".hoogle-package {\n",
       "font-weight: bold;\n",
       "font-style: italic;\n",
       "}\n",
       ".hoogle-module {\n",
       "font-weight: bold;\n",
       "}\n",
       ".hoogle-class {\n",
       "font-weight: bold;\n",
       "}\n",
       ".get-type {\n",
       "color: green;\n",
       "font-weight: bold;\n",
       "font-family: monospace;\n",
       "display: block;\n",
       "white-space: pre-wrap;\n",
       "}\n",
       ".show-type {\n",
       "color: green;\n",
       "font-weight: bold;\n",
       "font-family: monospace;\n",
       "margin-left: 1em;\n",
       "}\n",
       ".mono {\n",
       "font-family: monospace;\n",
       "display: block;\n",
       "}\n",
       ".err-msg {\n",
       "color: red;\n",
       "font-style: italic;\n",
       "font-family: monospace;\n",
       "white-space: pre;\n",
       "display: block;\n",
       "}\n",
       "#unshowable {\n",
       "color: red;\n",
       "font-weight: bold;\n",
       "}\n",
       ".err-msg.in.collapse {\n",
       "padding-top: 0.7em;\n",
       "}\n",
       ".highlight-code {\n",
       "white-space: pre;\n",
       "font-family: monospace;\n",
       "}\n",
       ".suggestion-warning { \n",
       "font-weight: bold;\n",
       "color: rgb(200, 130, 0);\n",
       "}\n",
       ".suggestion-error { \n",
       "font-weight: bold;\n",
       "color: red;\n",
       "}\n",
       ".suggestion-name {\n",
       "font-weight: bold;\n",
       "}\n",
       "</style><span class='get-type'>GTree TF :: * -> *</span>"
      ],
      "text/plain": [
       "GTree TF :: * -> *"
      ]
     },
     "metadata": {},
     "output_type": "display_data"
    }
   ],
   "source": [
    ":kind GTree UF  -- UTree에 해당\n",
    ":kind GTree BF  -- BTree에 해당\n",
    ":kind GTree TF  -- TTree에 해당"
   ]
  },
  {
   "cell_type": "code",
   "execution_count": 22,
   "id": "d003e4ba-081e-4617-8d25-05ef7c7a16e3",
   "metadata": {},
   "outputs": [
    {
     "data": {
      "text/plain": [
       "GNode 1 (C1 (GNode 11 (C1 GNil)))"
      ]
     },
     "metadata": {},
     "output_type": "display_data"
    },
    {
     "data": {
      "text/plain": [
       "GNode 1 (C2 (GNode 11 (C2 (GNil,GNil)),GNode 12 (C2 (GNil,GNil))))"
      ]
     },
     "metadata": {},
     "output_type": "display_data"
    },
    {
     "data": {
      "text/plain": [
       "GNode 1 (C3 (GNode 11 (C3 (GNil,GNil,GNil)),GNode 12 (C3 (GNil,GNil,GNil)),GNode 13 (C3 (GNil,GNil,GNil))))"
      ]
     },
     "metadata": {},
     "output_type": "display_data"
    }
   ],
   "source": [
    "-- 첫번째 나무를 GTree로 표현\n",
    "utreeToGTree :: UTree a -> GTree UF a\n",
    "utreeToGTree UNil = GNil\n",
    "utreeToGTree (UNode x t) = GNode x (C1 (utreeToGTree t))\n",
    "\n",
    "utreeToGTree (UNode 1 (UNode 11 UNil))\n",
    "\n",
    "-- 두번째 나무를 GTree로 표현\n",
    "btreeToGTree :: BTree a -> GTree BF a\n",
    "btreeToGTree BNil = GNil\n",
    "btreeToGTree (BNode x (t1, t2)) = GNode x (C2 (btreeToGTree t1, btreeToGTree t2))\n",
    "\n",
    "btreeToGTree (BNode 1 ( BNode 11 (BNil,BNil),\n",
    "                        BNode 12 (BNil,BNil) ))\n",
    "\n",
    "-- 세번째 나무를 GTree로 표현\n",
    "ttreeToGTree :: TTree a -> GTree TF a\n",
    "ttreeToGTree TNil = GNil\n",
    "ttreeToGTree (TNode x (t1, t2, t3)) = GNode x (C3 (ttreeToGTree t1, ttreeToGTree t2, ttreeToGTree t3))\n",
    "\n",
    "ttreeToGTree (TNode 1 ( TNode 11 (TNil,TNil,TNil),\n",
    "                        TNode 12 (TNil,TNil,TNil),\n",
    "                        TNode 13 (TNil,TNil,TNil) ))"
   ]
  },
  {
   "cell_type": "markdown",
   "id": "d7598403-b72c-423b-af18-572be32fa8eb",
   "metadata": {},
   "source": [
    "## 문제 6번 (6점). `UTree`, `BTree`, `TTree`의 노드에 나타나는 값을 원소로 하는 리스트를 계산하는 함수"
   ]
  },
  {
   "cell_type": "code",
   "execution_count": 23,
   "id": "eff171bb-eff4-48d4-b118-95bde4440966",
   "metadata": {},
   "outputs": [],
   "source": [
    "-- 여기에 다음 세 함수를 작성하시오\n",
    "\n",
    "utree2list :: forall a. UTree a -> [a]\n",
    "utree2list UNil = []\n",
    "utree2list (UNode x t) = x : utree2list t\n",
    "\n",
    "btree2list :: forall a. BTree a -> [a]\n",
    "btree2list BNil = []\n",
    "btree2list (BNode x (t1, t2)) = x : btree2list t1 ++ btree2list t2\n",
    "\n",
    "ttree2list :: forall a. TTree a -> [a]\n",
    "ttree2list TNil = []\n",
    "ttree2list (TNode x (t1, t2, t3)) = x : ttree2list t1 ++ ttree2list t2 ++ ttree2list t3"
   ]
  },
  {
   "cell_type": "markdown",
   "id": "1a027e12-6a50-40ca-8818-ae17cfc06319",
   "metadata": {},
   "source": [
    "## 문제 7번 (10점). `GTree`의 노드에 나타나는 값을 원소로 하는 리스트를 계산하는 함수 "
   ]
  },
  {
   "cell_type": "code",
   "execution_count": 24,
   "id": "0b4acd93-50e9-436e-b475-c611100dfbd3",
   "metadata": {},
   "outputs": [],
   "source": [
    "gtree2list :: forall f a. (forall c. f c -> [c]) -> GTree f a -> [a]\n",
    "gtree2list h GNil         = []\n",
    "gtree2list h (GNode x ft) = x : concatMap (gtree2list h) (h ft) "
   ]
  },
  {
   "cell_type": "code",
   "execution_count": 25,
   "id": "090128d9-6ecd-4978-bedf-cd51bd9fccca",
   "metadata": {},
   "outputs": [
    {
     "data": {
      "text/plain": [
       "[1,11]"
      ]
     },
     "metadata": {},
     "output_type": "display_data"
    },
    {
     "data": {
      "text/plain": [
       "[1,11,12]"
      ]
     },
     "metadata": {},
     "output_type": "display_data"
    },
    {
     "data": {
      "text/plain": [
       "[1,11,12,13]"
      ]
     },
     "metadata": {},
     "output_type": "display_data"
    }
   ],
   "source": [
    "-- 5번에서 작성한 답안 3개로 테스트 3개를 실행하라\n",
    "gtree2list (\\(C1 x) -> [x]) (utreeToGTree (UNode 1 (UNode 11 UNil)))\n",
    "gtree2list (\\(C2 (t1, t2)) -> [t1, t2]) (btreeToGTree (BNode 1 ( BNode 11 (BNil,BNil), BNode 12 (BNil,BNil))))\n",
    "gtree2list (\\(C3 (t1, t2, t3)) -> [t1, t2, t3]) (ttreeToGTree (TNode 1 ( TNode 11 (TNil,TNil,TNil), TNode 12 (TNil,TNil,TNil), TNode 13 (TNil,TNil,TNil))))"
   ]
  },
  {
   "cell_type": "code",
   "execution_count": null,
   "id": "41daae6b-0952-4dea-ae9f-9d714c6559b5",
   "metadata": {},
   "outputs": [],
   "source": []
  }
 ],
 "metadata": {
  "kernelspec": {
   "display_name": "Haskell",
   "language": "haskell",
   "name": "haskell"
  },
  "language_info": {
   "codemirror_mode": "ihaskell",
   "file_extension": ".hs",
   "mimetype": "text/x-haskell",
   "name": "haskell",
   "pygments_lexer": "Haskell",
   "version": "9.2.5"
  }
 },
 "nbformat": 4,
 "nbformat_minor": 5
}
