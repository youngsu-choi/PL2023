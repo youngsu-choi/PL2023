{
 "cells": [
  {
   "cell_type": "markdown",
   "id": "ab354cc4-f4fd-4eb7-8745-4cb505172c63",
   "metadata": {},
   "source": [
    "# HNU CE 프로그래밍언어론 (2023년 1학기) HW1"
   ]
  },
  {
   "cell_type": "markdown",
   "id": "b3ed9693-2d1d-452e-a76d-03e4ae77fa55",
   "metadata": {},
   "source": [
    "- 이름: 최영수\n",
    "- 학번: 20190633"
   ]
  },
  {
   "cell_type": "markdown",
   "id": "0dc04f45-1bc8-463b-bb79-1a5cc17aba29",
   "metadata": {},
   "source": [
    "이름과 학번을 위에 작성하시오.\n",
    "\n",
    "----"
   ]
  },
  {
   "cell_type": "code",
   "execution_count": 23,
   "id": "1ac64b75-35f6-4db9-bcd9-8e7086e2c6ac",
   "metadata": {},
   "outputs": [],
   "source": [
    ":opt no-lint\n",
    "{-# LANGUAGE ScopedTypeVariables FlexibleInstances #-}"
   ]
  },
  {
   "cell_type": "code",
   "execution_count": 24,
   "id": "4454cb87-b85e-4fec-9fa1-1d4cb78b5fef",
   "metadata": {},
   "outputs": [],
   "source": [
    "data RE = Null\n",
    "        | Epsilon\n",
    "        | Symbol Char\n",
    "        | Union RE RE\n",
    "        | Concat RE RE\n",
    "        | Star RE\n",
    "        deriving (Eq,Ord)\n",
    "\n",
    "import Data.List (intercalate)\n",
    "instance Show RE where\n",
    "  showsPrec _ Null    = showString \"\\\\varnothing{}\"\n",
    "  showsPrec _ Epsilon = showString \"\\\\varepsilon{}\"\n",
    "  showsPrec p (Symbol c) = showString [c]\n",
    "  showsPrec p (Union  r1 r2) = showParen (p > 6) $\n",
    "      showsPrec 6 r1 . showString \" | \" . showsPrec 6 r2\n",
    "  showsPrec p (Concat r1 r2) = showParen (p > 7) $\n",
    "      showsPrec 7 r1 . showsPrec 7 r2\n",
    "  showsPrec p (Star r) = showParen (p > 10) $\n",
    "      showsPrec 11 r . showString \"^{*}\"\n",
    "instance {-# OVERLAPS #-} Show [RE] where\n",
    "  show rs = \"[\" ++ intercalate \",\\\\,\" (map show rs) ++ \"]\"\n",
    "\n",
    "import IHaskell.Display\n",
    "dTeX e = display [latex $ \"$\"++show e++\"$\"]\n",
    "instance IHaskellDisplay RE                    where display = dTeX\n",
    "instance {-# OVERLAPS #-} IHaskellDisplay [RE] where display = dTeX"
   ]
  },
  {
   "cell_type": "code",
   "execution_count": 25,
   "id": "48710c7f",
   "metadata": {},
   "outputs": [
    {
     "data": {
      "text/latex": [
       "$\\varnothing{}$"
      ]
     },
     "metadata": {},
     "output_type": "display_data"
    },
    {
     "data": {
      "text/latex": [
       "$\\varepsilon{}$"
      ]
     },
     "metadata": {},
     "output_type": "display_data"
    },
    {
     "data": {
      "text/latex": [
       "$a$"
      ]
     },
     "metadata": {},
     "output_type": "display_data"
    }
   ],
   "source": [
    "Null\n",
    "Epsilon\n",
    "Symbol 'a'"
   ]
  },
  {
   "cell_type": "code",
   "execution_count": 26,
   "id": "cad24c41",
   "metadata": {},
   "outputs": [
    {
     "data": {
      "text/latex": [
       "$a | \\varepsilon{}$"
      ]
     },
     "metadata": {},
     "output_type": "display_data"
    },
    {
     "data": {
      "text/latex": [
       "$a | \\varepsilon{} | \\varepsilon{}$"
      ]
     },
     "metadata": {},
     "output_type": "display_data"
    },
    {
     "data": {
      "text/latex": [
       "$\\varepsilon{} | \\varepsilon{} | a$"
      ]
     },
     "metadata": {},
     "output_type": "display_data"
    },
    {
     "data": {
      "text/latex": [
       "$a | \\varepsilon{}\\varepsilon{}$"
      ]
     },
     "metadata": {},
     "output_type": "display_data"
    },
    {
     "data": {
      "text/latex": [
       "$\\varepsilon{}\\varepsilon{} | a$"
      ]
     },
     "metadata": {},
     "output_type": "display_data"
    }
   ],
   "source": [
    "Union (Symbol 'a') Epsilon\n",
    "Union (Symbol 'a') (Union Epsilon Epsilon)\n",
    "Union (Union Epsilon Epsilon) (Symbol 'a')\n",
    "Union (Symbol 'a') (Concat Epsilon Epsilon)\n",
    "Union (Concat Epsilon Epsilon) (Symbol 'a')"
   ]
  },
  {
   "cell_type": "code",
   "execution_count": 27,
   "id": "850e17a5-137e-4cc3-8051-a7b73c0fa6df",
   "metadata": {},
   "outputs": [
    {
     "data": {
      "text/latex": [
       "$a\\varepsilon{}\\varepsilon{}$"
      ]
     },
     "metadata": {},
     "output_type": "display_data"
    },
    {
     "data": {
      "text/latex": [
       "$\\varepsilon{}\\varepsilon{}a$"
      ]
     },
     "metadata": {},
     "output_type": "display_data"
    },
    {
     "data": {
      "text/latex": [
       "$a(\\varepsilon{} | \\varepsilon{})$"
      ]
     },
     "metadata": {},
     "output_type": "display_data"
    },
    {
     "data": {
      "text/latex": [
       "$(\\varepsilon{} | \\varepsilon{})a$"
      ]
     },
     "metadata": {},
     "output_type": "display_data"
    }
   ],
   "source": [
    "Concat (Symbol 'a') (Concat Epsilon Epsilon)\n",
    "Concat (Concat Epsilon Epsilon) (Symbol 'a')\n",
    "Concat (Symbol 'a') (Union Epsilon Epsilon)\n",
    "Concat (Union Epsilon Epsilon) (Symbol 'a')"
   ]
  },
  {
   "cell_type": "code",
   "execution_count": 28,
   "id": "01ddf892-070d-429d-ae0e-1603dc885f09",
   "metadata": {},
   "outputs": [
    {
     "data": {
      "text/latex": [
       "$a^{*}$"
      ]
     },
     "metadata": {},
     "output_type": "display_data"
    },
    {
     "data": {
      "text/latex": [
       "$(a | \\varepsilon{})^{*}$"
      ]
     },
     "metadata": {},
     "output_type": "display_data"
    },
    {
     "data": {
      "text/latex": [
       "$(a\\varepsilon{})^{*}$"
      ]
     },
     "metadata": {},
     "output_type": "display_data"
    },
    {
     "data": {
      "text/latex": [
       "$(a^{*})^{*}$"
      ]
     },
     "metadata": {},
     "output_type": "display_data"
    }
   ],
   "source": [
    "Star (Symbol 'a')\n",
    "Star (Union (Symbol 'a') Epsilon)\n",
    "Star (Concat (Symbol 'a') Epsilon)\n",
    "Star (Star (Symbol 'a'))"
   ]
  },
  {
   "cell_type": "markdown",
   "id": "d7e299f9-8a3a-4b25-9e5c-3a180f14ece1",
   "metadata": {},
   "source": [
    "----"
   ]
  },
  {
   "cell_type": "code",
   "execution_count": 29,
   "id": "96ea467d-638f-48ea-8b80-38be2c34a6fb",
   "metadata": {},
   "outputs": [
    {
     "data": {
      "text/plain": [
       "False"
      ]
     },
     "metadata": {},
     "output_type": "display_data"
    },
    {
     "data": {
      "text/plain": [
       "True"
      ]
     },
     "metadata": {},
     "output_type": "display_data"
    }
   ],
   "source": [
    "True == False\n",
    "True == True"
   ]
  },
  {
   "cell_type": "code",
   "execution_count": 30,
   "id": "d360be23-d2e1-4f99-9582-745bed246ece",
   "metadata": {},
   "outputs": [
    {
     "data": {
      "text/plain": [
       "False"
      ]
     },
     "metadata": {},
     "output_type": "display_data"
    },
    {
     "data": {
      "text/plain": [
       "True"
      ]
     },
     "metadata": {},
     "output_type": "display_data"
    }
   ],
   "source": [
    "False /= False\n",
    "False /= True"
   ]
  },
  {
   "cell_type": "code",
   "execution_count": 31,
   "id": "9e7e3d7c-8234-4d4a-921d-6a7ff8073abc",
   "metadata": {},
   "outputs": [
    {
     "data": {
      "text/plain": [
       "False"
      ]
     },
     "metadata": {},
     "output_type": "display_data"
    },
    {
     "data": {
      "text/plain": [
       "True"
      ]
     },
     "metadata": {},
     "output_type": "display_data"
    }
   ],
   "source": [
    "not True\n",
    "not False"
   ]
  },
  {
   "cell_type": "code",
   "execution_count": 32,
   "id": "8f89a6ce-8f14-43e5-9239-425df8333888",
   "metadata": {},
   "outputs": [
    {
     "data": {
      "text/plain": [
       "True"
      ]
     },
     "metadata": {},
     "output_type": "display_data"
    },
    {
     "data": {
      "text/plain": [
       "False"
      ]
     },
     "metadata": {},
     "output_type": "display_data"
    },
    {
     "data": {
      "text/plain": [
       "False"
      ]
     },
     "metadata": {},
     "output_type": "display_data"
    }
   ],
   "source": [
    "True && True\n",
    "True && False\n",
    "False && False"
   ]
  },
  {
   "cell_type": "code",
   "execution_count": 33,
   "id": "fcdbd54c-11e8-4c4a-99a6-1692ecc11671",
   "metadata": {},
   "outputs": [
    {
     "data": {
      "text/plain": [
       "False"
      ]
     },
     "metadata": {},
     "output_type": "display_data"
    },
    {
     "data": {
      "text/plain": [
       "True"
      ]
     },
     "metadata": {},
     "output_type": "display_data"
    }
   ],
   "source": [
    "False || False\n",
    "False || True"
   ]
  },
  {
   "cell_type": "code",
   "execution_count": 34,
   "id": "3eb2d470-ba0a-41b9-b646-a0fb75077365",
   "metadata": {},
   "outputs": [
    {
     "data": {
      "text/plain": [
       "\"hello\""
      ]
     },
     "metadata": {},
     "output_type": "display_data"
    },
    {
     "data": {
      "text/plain": [
       "\"world\""
      ]
     },
     "metadata": {},
     "output_type": "display_data"
    }
   ],
   "source": [
    "if True  then \"hello\" else \"world\"\n",
    "if False then \"hello\" else \"world\""
   ]
  },
  {
   "cell_type": "markdown",
   "id": "74099eaa-222d-430f-bab1-ef9759851b6f",
   "metadata": {
    "tags": []
   },
   "source": [
    "----\n",
    "## 1. 주어진 정규식 $r$에 대해 $[\\![r]\\!] \\equiv [\\![\\emptyset]\\!]$인지 판별하는 `eqNull` 함수 작성 (15점)\n",
    "아래 `undefined` 대신 적절한 함수 내용을 작성하고 추가로 적절한 개수의 테스트를 작성하라."
   ]
  },
  {
   "cell_type": "code",
   "execution_count": 35,
   "id": "6dec9025-9969-42b2-ba0d-78170e1e9599",
   "metadata": {},
   "outputs": [],
   "source": [
    "eqNull :: RE -> Bool\n",
    "eqNull Null = True\n",
    "eqNull Epsilon = False\n",
    "\n",
    "eqNull (Symbol c) = False \n",
    "eqNull (Union r1 r2) =  eqNull r1   &&  eqNull r2 \n",
    "eqNull (Concat r1 r2)= eqNull r1 &&  eqNull r2 \n",
    "eqNull (Star r) = eqNull r  "
   ]
  },
  {
   "cell_type": "code",
   "execution_count": 36,
   "id": "729ff29c-ced1-4e0d-8fe6-598606c8194a",
   "metadata": {},
   "outputs": [
    {
     "data": {
      "text/latex": [
       "$\\varnothing{}$"
      ]
     },
     "metadata": {},
     "output_type": "display_data"
    },
    {
     "data": {
      "text/plain": [
       "True"
      ]
     },
     "metadata": {},
     "output_type": "display_data"
    },
    {
     "data": {
      "text/latex": [
       "$\\varepsilon{}$"
      ]
     },
     "metadata": {},
     "output_type": "display_data"
    },
    {
     "data": {
      "text/plain": [
       "False"
      ]
     },
     "metadata": {},
     "output_type": "display_data"
    },
    {
     "data": {
      "text/latex": [
       "$s$"
      ]
     },
     "metadata": {},
     "output_type": "display_data"
    },
    {
     "data": {
      "text/plain": [
       "False"
      ]
     },
     "metadata": {},
     "output_type": "display_data"
    },
    {
     "data": {
      "text/latex": [
       "$\\varnothing{} | \\varepsilon{}$"
      ]
     },
     "metadata": {},
     "output_type": "display_data"
    },
    {
     "data": {
      "text/plain": [
       "False"
      ]
     },
     "metadata": {},
     "output_type": "display_data"
    },
    {
     "data": {
      "text/latex": [
       "$\\varepsilon{} | \\varepsilon{}$"
      ]
     },
     "metadata": {},
     "output_type": "display_data"
    },
    {
     "data": {
      "text/plain": [
       "False"
      ]
     },
     "metadata": {},
     "output_type": "display_data"
    },
    {
     "data": {
      "text/latex": [
       "$\\varnothing{} | \\varepsilon{} | \\varnothing{}$"
      ]
     },
     "metadata": {},
     "output_type": "display_data"
    },
    {
     "data": {
      "text/plain": [
       "False"
      ]
     },
     "metadata": {},
     "output_type": "display_data"
    },
    {
     "data": {
      "text/latex": [
       "$s | \\varnothing{}$"
      ]
     },
     "metadata": {},
     "output_type": "display_data"
    },
    {
     "data": {
      "text/plain": [
       "False"
      ]
     },
     "metadata": {},
     "output_type": "display_data"
    },
    {
     "data": {
      "text/latex": [
       "$\\varnothing{}\\varnothing{}\\varepsilon{}$"
      ]
     },
     "metadata": {},
     "output_type": "display_data"
    },
    {
     "data": {
      "text/plain": [
       "False"
      ]
     },
     "metadata": {},
     "output_type": "display_data"
    },
    {
     "data": {
      "text/latex": [
       "$\\varnothing{}\\varnothing{}$"
      ]
     },
     "metadata": {},
     "output_type": "display_data"
    },
    {
     "data": {
      "text/plain": [
       "True"
      ]
     },
     "metadata": {},
     "output_type": "display_data"
    },
    {
     "data": {
      "text/latex": [
       "$(\\varnothing{} | \\varnothing{})(\\varepsilon{} | \\varepsilon{})$"
      ]
     },
     "metadata": {},
     "output_type": "display_data"
    },
    {
     "data": {
      "text/plain": [
       "False"
      ]
     },
     "metadata": {},
     "output_type": "display_data"
    },
    {
     "data": {
      "text/latex": [
       "$\\varnothing{}^{*}$"
      ]
     },
     "metadata": {},
     "output_type": "display_data"
    },
    {
     "data": {
      "text/plain": [
       "True"
      ]
     },
     "metadata": {},
     "output_type": "display_data"
    },
    {
     "data": {
      "text/latex": [
       "$a^{*}$"
      ]
     },
     "metadata": {},
     "output_type": "display_data"
    },
    {
     "data": {
      "text/plain": [
       "False"
      ]
     },
     "metadata": {},
     "output_type": "display_data"
    },
    {
     "data": {
      "text/latex": [
       "$(a\\varepsilon{})^{*}$"
      ]
     },
     "metadata": {},
     "output_type": "display_data"
    },
    {
     "data": {
      "text/plain": [
       "False"
      ]
     },
     "metadata": {},
     "output_type": "display_data"
    },
    {
     "data": {
      "text/latex": [
       "$(a^{*})^{*}$"
      ]
     },
     "metadata": {},
     "output_type": "display_data"
    },
    {
     "data": {
      "text/plain": [
       "False"
      ]
     },
     "metadata": {},
     "output_type": "display_data"
    }
   ],
   "source": [
    "-- 가장 간단한 경우에 대한 테스트 두 개\n",
    "\n",
    "Null\n",
    "eqNull it -- it은 바로 직전 실행 결과인 Null\n",
    "\n",
    "Epsilon\n",
    "eqNull it -- it은 바로 직전 실행 결과인 Epsilon\n",
    "\n",
    "(Symbol 's')\n",
    "eqNull it\n",
    "\n",
    "Union Null Epsilon\n",
    "eqNull it\n",
    "\n",
    "\n",
    "Union Epsilon Epsilon\n",
    "eqNull it\n",
    "\n",
    "Union (Union Null Epsilon) Null\n",
    "eqNull it\n",
    "\n",
    "Union (Symbol 's') Null\n",
    "eqNull it\n",
    "\n",
    "Concat Null (Concat Null Epsilon)\n",
    "eqNull it\n",
    "\n",
    "Concat Null Null\n",
    "eqNull it\n",
    "\n",
    "\n",
    "\n",
    "\n",
    "Concat (Union Null Null) (Union Epsilon Epsilon)\n",
    "eqNull it\n",
    "\n",
    "Star Null\n",
    "eqNull it\n",
    "\n",
    "Star (Symbol 'a')\n",
    "eqNull it\n",
    "\n",
    "\n",
    "\n",
    "Star (Concat (Symbol 'a') Epsilon)\n",
    "eqNull it\n",
    "\n",
    "\n",
    "Star (Star (Symbol 'a'))\n",
    "eqNull it\n"
   ]
  },
  {
   "cell_type": "code",
   "execution_count": 37,
   "id": "a9ada0ac-f644-4c4b-a6aa-780fd02e7e12",
   "metadata": {},
   "outputs": [],
   "source": [
    "-- 추가 테스트 작성\n"
   ]
  },
  {
   "cell_type": "markdown",
   "id": "53c67bb7-baa8-4216-a93f-1eaf0f46f103",
   "metadata": {},
   "source": [
    "----"
   ]
  },
  {
   "cell_type": "markdown",
   "id": "86cb4b2e-a4bf-436a-b36c-ac3d0b1054bf",
   "metadata": {},
   "source": [
    "## 2. 주어진 정규식 $r$에 대해 $[\\![r]\\!] \\equiv [\\![\\varepsilon]\\!]$인지 판별하는 `eqEpsilon` 함수 작성 (15점)\n",
    "아래 `undefined` 대신 적절한 함수 내용을 작성하고 추가로 적절한 개수의 테스트를 작성하라."
   ]
  },
  {
   "cell_type": "code",
   "execution_count": 38,
   "id": "385addcb-58f7-49ef-af43-21c393f19a9e",
   "metadata": {},
   "outputs": [],
   "source": [
    "eqEpsilon :: RE -> Bool\n",
    "eqEpsilon Null = False\n",
    "eqEpsilon Epsilon = True\n",
    "\n",
    "eqEpsilon (Symbol c) = False \n",
    "eqEpsilon (Union r1 r2) = eqEpsilon r1   &&   eqEpsilon r2\n",
    "eqEpsilon (Concat r1 r2) = eqEpsilon r1    &&    eqEpsilon r2\n",
    "eqEpsilon (Star r) = eqEpsilon r"
   ]
  },
  {
   "cell_type": "code",
   "execution_count": 39,
   "id": "5131999b-f64a-47f5-8f19-fc35771434dd",
   "metadata": {},
   "outputs": [
    {
     "data": {
      "text/latex": [
       "$\\varnothing{}$"
      ]
     },
     "metadata": {},
     "output_type": "display_data"
    },
    {
     "data": {
      "text/plain": [
       "False"
      ]
     },
     "metadata": {},
     "output_type": "display_data"
    },
    {
     "data": {
      "text/latex": [
       "$\\varepsilon{}$"
      ]
     },
     "metadata": {},
     "output_type": "display_data"
    },
    {
     "data": {
      "text/plain": [
       "True"
      ]
     },
     "metadata": {},
     "output_type": "display_data"
    },
    {
     "data": {
      "text/latex": [
       "$s$"
      ]
     },
     "metadata": {},
     "output_type": "display_data"
    },
    {
     "data": {
      "text/plain": [
       "False"
      ]
     },
     "metadata": {},
     "output_type": "display_data"
    },
    {
     "data": {
      "text/latex": [
       "$\\varepsilon{} | \\varepsilon{}$"
      ]
     },
     "metadata": {},
     "output_type": "display_data"
    },
    {
     "data": {
      "text/plain": [
       "True"
      ]
     },
     "metadata": {},
     "output_type": "display_data"
    },
    {
     "data": {
      "text/latex": [
       "$s | \\varepsilon{} | \\varepsilon{}$"
      ]
     },
     "metadata": {},
     "output_type": "display_data"
    },
    {
     "data": {
      "text/plain": [
       "False"
      ]
     },
     "metadata": {},
     "output_type": "display_data"
    },
    {
     "data": {
      "text/latex": [
       "$\\varepsilon{} | \\varepsilon{} | s$"
      ]
     },
     "metadata": {},
     "output_type": "display_data"
    },
    {
     "data": {
      "text/plain": [
       "False"
      ]
     },
     "metadata": {},
     "output_type": "display_data"
    },
    {
     "data": {
      "text/latex": [
       "$s | \\varepsilon{}\\varepsilon{}$"
      ]
     },
     "metadata": {},
     "output_type": "display_data"
    },
    {
     "data": {
      "text/plain": [
       "False"
      ]
     },
     "metadata": {},
     "output_type": "display_data"
    },
    {
     "data": {
      "text/latex": [
       "$\\varnothing{}\\varepsilon{} | s$"
      ]
     },
     "metadata": {},
     "output_type": "display_data"
    },
    {
     "data": {
      "text/plain": [
       "False"
      ]
     },
     "metadata": {},
     "output_type": "display_data"
    },
    {
     "data": {
      "text/latex": [
       "$\\varepsilon{}\\varepsilon{}$"
      ]
     },
     "metadata": {},
     "output_type": "display_data"
    },
    {
     "data": {
      "text/plain": [
       "True"
      ]
     },
     "metadata": {},
     "output_type": "display_data"
    },
    {
     "data": {
      "text/latex": [
       "$\\varnothing{}\\varnothing{}s$"
      ]
     },
     "metadata": {},
     "output_type": "display_data"
    },
    {
     "data": {
      "text/plain": [
       "False"
      ]
     },
     "metadata": {},
     "output_type": "display_data"
    },
    {
     "data": {
      "text/latex": [
       "$s(\\varnothing{} | \\varepsilon{})$"
      ]
     },
     "metadata": {},
     "output_type": "display_data"
    },
    {
     "data": {
      "text/plain": [
       "False"
      ]
     },
     "metadata": {},
     "output_type": "display_data"
    },
    {
     "data": {
      "text/latex": [
       "$(\\varnothing{} | \\varepsilon{})s$"
      ]
     },
     "metadata": {},
     "output_type": "display_data"
    },
    {
     "data": {
      "text/plain": [
       "False"
      ]
     },
     "metadata": {},
     "output_type": "display_data"
    },
    {
     "data": {
      "text/latex": [
       "$\\varepsilon{}^{*}$"
      ]
     },
     "metadata": {},
     "output_type": "display_data"
    },
    {
     "data": {
      "text/plain": [
       "True"
      ]
     },
     "metadata": {},
     "output_type": "display_data"
    },
    {
     "data": {
      "text/latex": [
       "$(s | \\varnothing{})^{*}$"
      ]
     },
     "metadata": {},
     "output_type": "display_data"
    },
    {
     "data": {
      "text/plain": [
       "False"
      ]
     },
     "metadata": {},
     "output_type": "display_data"
    },
    {
     "data": {
      "text/latex": [
       "$\\varnothing{}^{*}$"
      ]
     },
     "metadata": {},
     "output_type": "display_data"
    },
    {
     "data": {
      "text/plain": [
       "False"
      ]
     },
     "metadata": {},
     "output_type": "display_data"
    },
    {
     "data": {
      "text/latex": [
       "$(s^{*})^{*}$"
      ]
     },
     "metadata": {},
     "output_type": "display_data"
    },
    {
     "data": {
      "text/plain": [
       "False"
      ]
     },
     "metadata": {},
     "output_type": "display_data"
    }
   ],
   "source": [
    "-- 가장 간단한 경우에 대한 테스트 두 개\n",
    "\n",
    "Null\n",
    "eqEpsilon it -- it은 바로 직전 실행 결과인 Null\n",
    "\n",
    "Epsilon\n",
    "eqEpsilon it -- it은 바로 직전 실행 결과인 Epsilon\n",
    "\n",
    "(Symbol 's')\n",
    "eqEpsilon it\n",
    "\n",
    "Union Epsilon Epsilon\n",
    "eqEpsilon it\n",
    "Union (Symbol 's') (Union Epsilon Epsilon)\n",
    "eqEpsilon it\n",
    "\n",
    "Union (Union Epsilon Epsilon) (Symbol 's')\n",
    "eqEpsilon it\n",
    "\n",
    "\n",
    "Union (Symbol 's') (Concat Epsilon Epsilon)\n",
    "eqEpsilon it\n",
    "\n",
    "\n",
    "Union (Concat Null Epsilon) (Symbol 's')\n",
    "eqEpsilon it\n",
    "\n",
    "Concat Epsilon Epsilon\n",
    "eqEpsilon it\n",
    "Concat (Concat Null Null) (Symbol 's')\n",
    "eqEpsilon it\n",
    "\n",
    "\n",
    "Concat (Symbol 's') (Union Null Epsilon)\n",
    "eqEpsilon it\n",
    "Concat (Union Null Epsilon) (Symbol 's')\n",
    "eqEpsilon it\n",
    "\n",
    "\n",
    "Star Epsilon\n",
    "eqEpsilon it\n",
    "\n",
    "\n",
    "Star (Union (Symbol 's') Null)\n",
    "eqEpsilon it\n",
    "\n",
    "\n",
    "Star Null \n",
    "eqEpsilon it\n",
    "Star (Star (Symbol 's'))\n",
    "eqEpsilon it"
   ]
  },
  {
   "cell_type": "code",
   "execution_count": 40,
   "id": "0b755fc4-daa5-498e-ab27-78826ea0aa1c",
   "metadata": {},
   "outputs": [],
   "source": [
    "-- 추가 테스트 작성"
   ]
  }
 ],
 "metadata": {
  "kernelspec": {
   "display_name": "Haskell",
   "language": "haskell",
   "name": "haskell"
  },
  "language_info": {
   "codemirror_mode": "ihaskell",
   "file_extension": ".hs",
   "mimetype": "text/x-haskell",
   "name": "haskell",
   "pygments_lexer": "Haskell",
   "version": "9.2.5"
  }
 },
 "nbformat": 4,
 "nbformat_minor": 5
}
