{
 "cells": [
  {
   "cell_type": "markdown",
   "id": "ab354cc4-f4fd-4eb7-8745-4cb505172c63",
   "metadata": {},
   "source": [
    "# HNU CE 프로그래밍언어론 (2023년 1학기) HW2\n",
    "중간고사 프로그래밍 과제 파트입니다."
   ]
  },
  {
   "cell_type": "markdown",
   "id": "b3ed9693-2d1d-452e-a76d-03e4ae77fa55",
   "metadata": {},
   "source": [
    "- 이름: 최영수\n",
    "- 학번: 20190633"
   ]
  },
  {
   "cell_type": "markdown",
   "id": "0dc04f45-1bc8-463b-bb79-1a5cc17aba29",
   "metadata": {},
   "source": [
    "이름과 학번을 위에 작성하시오.\n",
    "\n",
    "\n",
    "적절한 내용과 개수의 테스트를 작성하지 않으면 감점. 테스트가 적절하지 않거나 지나치게 부족하면 함수를 올바르게 작성했더라도 점수를 얻지 못할 수 있음에 유의!\n",
    "\n",
    "----"
   ]
  },
  {
   "cell_type": "code",
   "execution_count": 1,
   "id": "1ac64b75-35f6-4db9-bcd9-8e7086e2c6ac",
   "metadata": {},
   "outputs": [],
   "source": [
    ":opt no-lint\n",
    "{-# LANGUAGE ScopedTypeVariables FlexibleInstances TypeApplications RankNTypes KindSignatures #-}\n",
    "\n",
    "import Data.List ( nub, elemIndex, (\\\\) ) -- Data.List 에서 혹시 더 필요해서 활용할 함수가 있다면 여기에 추가로 import 해오면 됨"
   ]
  },
  {
   "cell_type": "code",
   "execution_count": 2,
   "id": "26fa1ba5-773d-4185-8abc-0c25d0c29fe6",
   "metadata": {},
   "outputs": [],
   "source": [
    "data Expr = I Int          -- n\n",
    "          | Add Expr Expr  -- e + e\n",
    "       deriving (Eq,Ord,Show) -- Eq 같은지, Ord 순서 비교, Show 출력 가능"
   ]
  },
  {
   "cell_type": "markdown",
   "id": "42b873e3-c186-419a-a6cf-2be6d258b911",
   "metadata": {},
   "source": [
    "## 문제1. (7장 연습문제 4번의 $\\stackrel{_R}{\\longmapsto}$에 해당하는 의미구조 계산기 함수) 15점\n",
    "함수를 작성하고 주어진 식에 대한 계산이 더 이상 진행되지 않을 때까지 계산하는 적절한 테스트를 두 개 이상의 산술식(`Expr`)에 대해 작성해야 함"
   ]
  },
  {
   "cell_type": "code",
   "execution_count": 3,
   "id": "753b2960-d47a-4d53-bab0-e49035d68ef7",
   "metadata": {},
   "outputs": [],
   "source": [
    "-- stepR :: Expr -> [Expr] -- 여기에 적절히 작성\n",
    "-- stepR' :: [Expr] -> [Expr] -- 여기에 적절히 작성\n",
    "import Data.List (nub)\n",
    "stepR :: Expr -> [Expr]\n",
    "stepR (I n1) = []\n",
    "stepR (I n1 `Add` I n2) = [I n] where n = n1 + n2\n",
    "stepR (e1 `Add` I n2) = [Add e1' (I n2) | e1' <- stepR e1]\n",
    "stepR (e1 `Add` e2) = [Add e1' e2 | e1' <- stepR e1] ++ [Add e1 e2' | e2' <- stepR e2]\n",
    "\n",
    "stepR' :: [Expr] -> [Expr]\n",
    "stepR' es = nub (concat [stepR e | e <- es])"
   ]
  },
  {
   "cell_type": "code",
   "execution_count": 4,
   "id": "54932f33-d06e-46d8-b7c8-38f960a54c46",
   "metadata": {},
   "outputs": [
    {
     "data": {
      "text/plain": [
       "[I 3]"
      ]
     },
     "metadata": {},
     "output_type": "display_data"
    },
    {
     "data": {
      "text/plain": [
       "[Add (I 1) (I 2)]"
      ]
     },
     "metadata": {},
     "output_type": "display_data"
    },
    {
     "data": {
      "text/plain": [
       "[I 3]"
      ]
     },
     "metadata": {},
     "output_type": "display_data"
    },
    {
     "data": {
      "text/plain": [
       "[Add (I 2) (Add (I 2) (I 3))]"
      ]
     },
     "metadata": {},
     "output_type": "display_data"
    },
    {
     "data": {
      "text/plain": [
       "[Add (I 2) (I 5)]"
      ]
     },
     "metadata": {},
     "output_type": "display_data"
    },
    {
     "data": {
      "text/plain": [
       "[I 7]"
      ]
     },
     "metadata": {},
     "output_type": "display_data"
    },
    {
     "data": {
      "text/plain": [
       "[Add (Add (I 3) (I 4)) (Add (I 5) (I 6))]"
      ]
     },
     "metadata": {},
     "output_type": "display_data"
    },
    {
     "data": {
      "text/plain": [
       "[Add (I 7) (Add (I 5) (I 6)),Add (Add (I 3) (I 4)) (I 11)]"
      ]
     },
     "metadata": {},
     "output_type": "display_data"
    },
    {
     "data": {
      "text/plain": [
       "[Add (I 7) (I 11)]"
      ]
     },
     "metadata": {},
     "output_type": "display_data"
    },
    {
     "data": {
      "text/plain": [
       "[I 18]"
      ]
     },
     "metadata": {},
     "output_type": "display_data"
    }
   ],
   "source": [
    "-- 적절히 테스트 2개 이상\n",
    "e0 = (I 3)\n",
    "e1 = (Add (I 1) (I 2))\n",
    "e2 = (Add (I 2) (Add (I 2) (I 3)))\n",
    "e3 = (Add (Add (I 3) (I 4)) (Add (I 5) (I 6)))\n",
    "[e0]\n",
    "\n",
    "[e1]\n",
    "stepR' it\n",
    "\n",
    "[e2]\n",
    "stepR' it\n",
    "stepR' it\n",
    "\n",
    "[e3]\n",
    "stepR' it\n",
    "stepR' it\n",
    "stepR' it"
   ]
  },
  {
   "cell_type": "markdown",
   "id": "3efb6edf-dc61-4180-87ee-3d663a35223b",
   "metadata": {},
   "source": [
    "## 문제2. (7장 연습문제 5번) 20점\n",
    "우선 7장 연습문제 4번의 나머지 부분을 해결해서 생각을 정리한 다음 작성하면 됨\n",
    "\n",
    "`split` 함수에 대한 테스트와 맥락적 의미구조 계산기 `stepC` 함수에 대한 테스트를 각각 2개 이상씩 작성해야 함"
   ]
  },
  {
   "cell_type": "code",
   "execution_count": 5,
   "id": "90df6566-aeae-468d-9e5b-5c8e0ae47bd0",
   "metadata": {},
   "outputs": [],
   "source": [
    "type Ctx = Expr -> Expr -- 타입 별명으로 긴 타입을 한 단어로 줄여 표시\n",
    "instance Show Ctx where\n",
    "    show ctx = show (ctx (I minBound))"
   ]
  },
  {
   "cell_type": "code",
   "execution_count": 6,
   "id": "6c4d02f5-2ff9-4cbc-8550-8e5cfbda38bb",
   "metadata": {},
   "outputs": [],
   "source": [
    "-- 아래 split 함수를 문제에서 요구하는 대로 변경하시오\n",
    "split :: Expr -> [(Ctx,Expr)]\n",
    "split (I n)       = [(\\e-> e, I n)]\n",
    "split (Add e1 e2) = \n",
    "                 [(\\e-> Add e1 (ctx e), e) | (ctx,e) <- split e2]\n",
    "                 ++ [(\\e-> Add (ctx e) e2, e) | (ctx,e) <- split e1]\n",
    "                 ++ [(\\e-> e, Add e1 e2)]"
   ]
  },
  {
   "cell_type": "code",
   "execution_count": 7,
   "id": "4b9a2b6e-d965-460f-9d22-428085f4367a",
   "metadata": {},
   "outputs": [
    {
     "data": {
      "text/plain": [
       "[(I (-9223372036854775808),I 3)]"
      ]
     },
     "metadata": {},
     "output_type": "display_data"
    },
    {
     "data": {
      "text/plain": [
       "[(Add (I 1) (I (-9223372036854775808)),I 2),(Add (I (-9223372036854775808)) (I 2),I 1),(I (-9223372036854775808),Add (I 1) (I 2))]"
      ]
     },
     "metadata": {},
     "output_type": "display_data"
    },
    {
     "data": {
      "text/plain": [
       "[(Add (I 2) (Add (I 2) (I (-9223372036854775808))),I 3),(Add (I 2) (Add (I (-9223372036854775808)) (I 3)),I 2),(Add (I 2) (I (-9223372036854775808)),Add (I 2) (I 3)),(Add (I (-9223372036854775808)) (Add (I 2) (I 3)),I 2),(I (-9223372036854775808),Add (I 2) (Add (I 2) (I 3)))]"
      ]
     },
     "metadata": {},
     "output_type": "display_data"
    },
    {
     "data": {
      "text/plain": [
       "[(Add (Add (I 3) (I 4)) (Add (I 5) (I (-9223372036854775808))),I 6),(Add (Add (I 3) (I 4)) (Add (I (-9223372036854775808)) (I 6)),I 5),(Add (Add (I 3) (I 4)) (I (-9223372036854775808)),Add (I 5) (I 6)),(Add (Add (I 3) (I (-9223372036854775808))) (Add (I 5) (I 6)),I 4),(Add (Add (I (-9223372036854775808)) (I 4)) (Add (I 5) (I 6)),I 3),(Add (I (-9223372036854775808)) (Add (I 5) (I 6)),Add (I 3) (I 4)),(I (-9223372036854775808),Add (Add (I 3) (I 4)) (Add (I 5) (I 6)))]"
      ]
     },
     "metadata": {},
     "output_type": "display_data"
    }
   ],
   "source": [
    "-- split 함수에 대한 적절한 테스트 2개 이상 작성\n",
    "e0 = (I 3)\n",
    "e1 = (Add (I 1) (I 2))\n",
    "e2 = (Add (I 2) (Add (I 2) (I 3)))\n",
    "e3 = (Add (Add (I 3) (I 4)) (Add (I 5) (I 6)))\n",
    "\n",
    "split e0\n",
    "split e1\n",
    "split e2\n",
    "split e3"
   ]
  },
  {
   "cell_type": "code",
   "execution_count": 8,
   "id": "205a6285-169e-478d-8b65-66c26a884a04",
   "metadata": {},
   "outputs": [],
   "source": [
    "stepB :: Expr -> [Expr]\n",
    "stepB (I n1 `Add` I n2) = [I n] where n = n1 + n2\n",
    "stepB _                 = []\n",
    "\n",
    "stepC :: Expr -> [Expr]\n",
    "stepC e0 = [ctx e' | (ctx,e) <- split e0, e' <- stepB e]"
   ]
  },
  {
   "cell_type": "code",
   "execution_count": 9,
   "id": "ed06c337-ac32-414c-90a0-59941bb112ea",
   "metadata": {},
   "outputs": [
    {
     "data": {
      "text/plain": [
       "[(Add (Add (I 1) (I 2)) (Add (I 3) (I (-9223372036854775808))),I 4),(Add (Add (I 1) (I 2)) (Add (I (-9223372036854775808)) (I 4)),I 3),(Add (Add (I 1) (I 2)) (I (-9223372036854775808)),Add (I 3) (I 4)),(Add (Add (I 1) (I (-9223372036854775808))) (Add (I 3) (I 4)),I 2),(Add (Add (I (-9223372036854775808)) (I 2)) (Add (I 3) (I 4)),I 1),(Add (I (-9223372036854775808)) (Add (I 3) (I 4)),Add (I 1) (I 2)),(I (-9223372036854775808),Add (Add (I 1) (I 2)) (Add (I 3) (I 4)))]"
      ]
     },
     "metadata": {},
     "output_type": "display_data"
    },
    {
     "data": {
      "text/plain": [
       "(Add (Add (I 1) (I 2)) (Add (I 3) (I (-9223372036854775808))),I 4)\n",
       "(Add (Add (I 1) (I 2)) (Add (I (-9223372036854775808)) (I 4)),I 3)\n",
       "(Add (Add (I 1) (I 2)) (I (-9223372036854775808)),Add (I 3) (I 4))\n",
       "(Add (Add (I 1) (I (-9223372036854775808))) (Add (I 3) (I 4)),I 2)\n",
       "(Add (Add (I (-9223372036854775808)) (I 2)) (Add (I 3) (I 4)),I 1)\n",
       "(Add (I (-9223372036854775808)) (Add (I 3) (I 4)),Add (I 1) (I 2))\n",
       "(I (-9223372036854775808),Add (Add (I 1) (I 2)) (Add (I 3) (I 4)))"
      ]
     },
     "metadata": {},
     "output_type": "display_data"
    },
    {
     "data": {
      "text/plain": [
       "[Add (Add (I 1) (I 2)) (Add (I 3) (I 4))]\n",
       "[Add (Add (I 1) (I 2)) (I 7),Add (I 3) (Add (I 3) (I 4))]\n",
       "[Add (I 3) (I 7)]\n",
       "[I 10]"
      ]
     },
     "metadata": {},
     "output_type": "display_data"
    }
   ],
   "source": [
    "-- 교재 7장의 60번 셀의 내용으로 테스트\n",
    "hat f = \\es -> nub(concat [f e | e <- es])\n",
    "\n",
    "e0 = (Add (I 1 `Add` I 2) (I 3 `Add` I 4))\n",
    "split e0\n",
    "mapM_ print it\n",
    "mapM_ print(takeWhile (not . null) (iterate(hat stepC) [e0]))"
   ]
  },
  {
   "cell_type": "code",
   "execution_count": 10,
   "id": "a66d42e8-6b22-4855-a402-81c997691bc1",
   "metadata": {},
   "outputs": [
    {
     "data": {
      "text/plain": [
       "[Add (I 2) (Add (I 3) (I 4))]\n",
       "[Add (I 2) (I 7)]\n",
       "[I 9]"
      ]
     },
     "metadata": {},
     "output_type": "display_data"
    }
   ],
   "source": [
    "-- 교재 7장의 60번 셀과 마찬가지 방식으로 다른 산술식(Expr)으로 하나 더 테스트\n",
    "e0 = (Add (I 2) (I 3 `Add` I 4))\n",
    "mapM_ print(takeWhile (not . null) (iterate(hat stepC) [e0]))"
   ]
  },
  {
   "cell_type": "markdown",
   "id": "2570edd6-7061-4de5-bbd0-0e834878faca",
   "metadata": {},
   "source": [
    "## 문제3. 닫힌(closed)람다식을 드브루인 인덱스 형식으로 변환"
   ]
  },
  {
   "cell_type": "code",
   "execution_count": 11,
   "id": "ded665e5-2fde-4406-baf5-e67d6b94f72a",
   "metadata": {},
   "outputs": [],
   "source": [
    "-- 관련 코드는 9장에 있음\n",
    "type Nm = String -- 변수 이름은 문자열로\n",
    "data LExpr = Var Nm           -- x\n",
    "           | Abs Nm LExpr     -- (λx.e)\n",
    "           | App LExpr LExpr  -- (e1 e2)\n",
    "           deriving (Eq, Ord)\n",
    "           \n",
    "instance Show LExpr where -- LaTeX 소스코드 생성하는 Show 인스턴스 직접 선언\n",
    "  showsPrec _ (Var x) = showString x\n",
    "  showsPrec p (Abs x e) = showParen (p > 1) $\n",
    "      showString (\"\\\\lambda \"++x++\".\") . showsPrec 1 e\n",
    "  showsPrec p (App e1 e2) = showParen (p > 9) $\n",
    "      showsPrec 9 e1 . showString \"\\\\;\" . showsPrec 10 e2\n",
    "import IHaskell.Display (latex)\n",
    "dTeX e = display [latex $ \"$\"++show e++\"$\"]\n",
    "instance IHaskellDisplay LExpr where display = dTeX"
   ]
  },
  {
   "cell_type": "code",
   "execution_count": 12,
   "id": "436dd659-5a77-401b-9347-5c460c57d636",
   "metadata": {},
   "outputs": [
    {
     "data": {
      "text/latex": [
       "$\\lambda x.\\lambda y.x\\;(\\lambda z.y)$"
      ]
     },
     "metadata": {},
     "output_type": "display_data"
    }
   ],
   "source": [
    "Abs \"x\" (Abs \"y\" (App (Var \"x\") (Abs \"z\"  (Var \"y\"))))"
   ]
  },
  {
   "cell_type": "code",
   "execution_count": 13,
   "id": "a8348c86-731a-484b-8579-8f7209530b87",
   "metadata": {},
   "outputs": [
    {
     "data": {
      "text/latex": [
       "$\\lambda x.\\lambda y.x\\;(\\lambda z.y)$"
      ]
     },
     "metadata": {},
     "output_type": "display_data"
    }
   ],
   "source": [
    "Abs \"x\" . Abs \"y\" $ Var \"x\" `App` Abs \"z\" (Var \"y\") -- 연산자 (.), ($) 및 역따옴표 중위 표현 활용"
   ]
  },
  {
   "cell_type": "code",
   "execution_count": 14,
   "id": "b093c297-6c74-4597-9b28-24679816e6e5",
   "metadata": {},
   "outputs": [
    {
     "data": {
      "text/plain": [
       "[\"x\",\"w\"]"
      ]
     },
     "metadata": {},
     "output_type": "display_data"
    }
   ],
   "source": [
    "[\"x\",\"y\",\"z\",\"w\"] \\\\ [\"y\",\"z\"] -- 차집합 연산"
   ]
  },
  {
   "cell_type": "markdown",
   "id": "190a0fd8-9129-4336-897a-ea2b2944d748",
   "metadata": {},
   "source": [
    "### 문제3-a. (람다식의 자유변수들을 계산) 20점\n",
    "람다식에 포함된 모든 자유변수들을 원소로 하는 리스트를 계산하는 `fv` 함수를 작성하면, 이를 활용하여 람다식이 닫힌식인지 판별하는 `closed` 함수를 간단히 작성할 수 있다.\n",
    "\n",
    "`fv` 함수를 작성하고, `fv`를 테스트하고, 또 `fv`를 활용해 이미 정의된 `closed` 함수도 테스트하라."
   ]
  },
  {
   "cell_type": "code",
   "execution_count": 15,
   "id": "6b9ef9b4-49c5-4dfe-a564-d0c6a5f46592",
   "metadata": {},
   "outputs": [],
   "source": [
    "fv :: LExpr -> [Nm] -- 자유변수의 리스트를 계산하는 함수\n",
    "fv (Var x) = [x]\n",
    "fv (Abs x e) = [e' | e' <- fv e] \\\\ [x]\n",
    "fv (App e1 e2) = [e1' | e1' <- fv e1] ++ [e2' | e2' <- fv e2]"
   ]
  },
  {
   "cell_type": "code",
   "execution_count": 16,
   "id": "f33bbaa0-81ee-41ee-a869-2c515c5ca42c",
   "metadata": {},
   "outputs": [
    {
     "data": {
      "text/plain": [
       "[\"y\",\"z\"]"
      ]
     },
     "metadata": {},
     "output_type": "display_data"
    },
    {
     "data": {
      "text/plain": [
       "[\"z\"]"
      ]
     },
     "metadata": {},
     "output_type": "display_data"
    }
   ],
   "source": [
    "-- 두 개 이상의 람다식(LExpr)에 대해 fv 테스트\n",
    "e0 = App (Abs \"x\" (App (Var \"x\") (Var \"y\"))) (Var \"z\")\n",
    "e1 = App (Abs \"x\" (Abs \"y\" (App (Var \"x\") (Var \"y\")))) (Var \"z\")\n",
    "fv e0\n",
    "fv e1"
   ]
  },
  {
   "cell_type": "code",
   "execution_count": 17,
   "id": "ba95931f-c97f-43ba-9a31-8265599bea64",
   "metadata": {},
   "outputs": [],
   "source": [
    "closed :: LExpr -> Bool\n",
    "closed e  =  fv e == []  -- 자유변수가 없는 식이 닫힌식이다"
   ]
  },
  {
   "cell_type": "code",
   "execution_count": 18,
   "id": "846764be-6338-460e-8a99-17ae000a42a5",
   "metadata": {},
   "outputs": [
    {
     "data": {
      "text/plain": [
       "True"
      ]
     },
     "metadata": {},
     "output_type": "display_data"
    },
    {
     "data": {
      "text/plain": [
       "False"
      ]
     },
     "metadata": {},
     "output_type": "display_data"
    }
   ],
   "source": [
    "-- fv로 정의된 closed가 제대로 동작하는지 테스트 두 개 이상 (True인 경우 최소 하나 이상, False인 경우 최소 하나 이상)\n",
    "e0 = Abs \"x\" (Abs \"y\" (Var \"x\"))\n",
    "e1 = Abs \"x\" (Var \"y\")\n",
    "\n",
    "closed e0\n",
    "closed e1"
   ]
  },
  {
   "cell_type": "markdown",
   "id": "b3dd0f9b-b16c-482a-83c6-cd7e56c41896",
   "metadata": {},
   "source": [
    "## 문제 3-b. (닫힌 람다식을 드부루인 인덱스 형식으로 변환하는 함수 작성) 35점"
   ]
  },
  {
   "cell_type": "code",
   "execution_count": 19,
   "id": "7d7e62e7-a839-4d56-a216-e1281d8f68c0",
   "metadata": {},
   "outputs": [],
   "source": [
    "-- 이 코드는 8장에서 가져옴\n",
    "data DExpr = DI Int | DAbs DExpr | DApp DExpr DExpr deriving (Eq,Ord)\n",
    "\n",
    "-- GHC가 자동으로 deriving하는 Show 인스턴스가 아닌  더 간략한 출력을 위해\n",
    "instance Show DExpr where   -- 직접 작성한 DExpr에 대한 Show 인스턴스\n",
    "  showsPrec _ (DI i) = showString (show i)\n",
    "  showsPrec p (DAbs e) = showParen (p > 1) $\n",
    "              showString \"\\\\\" . showsPrec 1 e\n",
    "  showsPrec p (DApp e1 e2) = showParen (p > 9) $\n",
    "              showsPrec 9 e1 . showString \" \" . showsPrec 10 e2"
   ]
  },
  {
   "cell_type": "code",
   "execution_count": 20,
   "id": "1a46b685-0c53-4d17-b5c8-e0d2e4681fdc",
   "metadata": {},
   "outputs": [
    {
     "data": {
      "text/plain": [
       "\\\\2 (\\2)"
      ]
     },
     "metadata": {},
     "output_type": "display_data"
    }
   ],
   "source": [
    "DAbs (DAbs (DApp (DI 2) (DAbs (DI 2)))) -- 𝜆𝑥.𝜆𝑦.𝑥 (𝜆𝑧.𝑦)"
   ]
  },
  {
   "cell_type": "code",
   "execution_count": 21,
   "id": "6f424b40-576a-4063-8fd6-2c95969d8174",
   "metadata": {},
   "outputs": [
    {
     "data": {
      "text/plain": [
       "\\\\2 (\\2)"
      ]
     },
     "metadata": {},
     "output_type": "display_data"
    }
   ],
   "source": [
    "DAbs . DAbs $ DI 2 `DApp` DAbs (DI 2) -- 연산자 (.), ($) 및 역따옴표 중위 표현 활용"
   ]
  },
  {
   "cell_type": "code",
   "execution_count": 22,
   "id": "8b2a863b-0b87-4fc0-9520-16c693d0b0d6",
   "metadata": {},
   "outputs": [
    {
     "data": {
      "text/plain": [
       "[]"
      ]
     },
     "metadata": {},
     "output_type": "display_data"
    },
    {
     "data": {
      "text/plain": [
       "[\"x\"]"
      ]
     },
     "metadata": {},
     "output_type": "display_data"
    },
    {
     "data": {
      "text/plain": [
       "[\"y\",\"x\"]"
      ]
     },
     "metadata": {},
     "output_type": "display_data"
    },
    {
     "data": {
      "text/plain": [
       "[\"x\",\"y,\",\"x\"]"
      ]
     },
     "metadata": {},
     "output_type": "display_data"
    },
    {
     "data": {
      "text/plain": [
       "[\"z\",\"x\",\"y,\",\"x\"]"
      ]
     },
     "metadata": {},
     "output_type": "display_data"
    }
   ],
   "source": [
    "[]\n",
    "\"x\" : []\n",
    "\"y\" : [\"x\"]\n",
    "\"x\" : [\"y,\",\"x\"]\n",
    "\"z\" : [\"x\",\"y,\",\"x\"]"
   ]
  },
  {
   "cell_type": "code",
   "execution_count": 23,
   "id": "f011fb54-4ce1-4f8f-94fa-560b202d7c09",
   "metadata": {},
   "outputs": [
    {
     "data": {
      "text/plain": [
       "[]"
      ]
     },
     "metadata": {},
     "output_type": "display_data"
    },
    {
     "data": {
      "text/plain": [
       "[\"x\"]"
      ]
     },
     "metadata": {},
     "output_type": "display_data"
    },
    {
     "data": {
      "text/plain": [
       "[\"y\",\"x\"]"
      ]
     },
     "metadata": {},
     "output_type": "display_data"
    },
    {
     "data": {
      "text/plain": [
       "[\"x\",\"y\",\"x\"]"
      ]
     },
     "metadata": {},
     "output_type": "display_data"
    },
    {
     "data": {
      "text/plain": [
       "[\"z\",\"x\",\"y\",\"x\"]"
      ]
     },
     "metadata": {},
     "output_type": "display_data"
    }
   ],
   "source": [
    "[]\n",
    "\"x\" : it\n",
    "\"y\" : it\n",
    "\"x\" : it\n",
    "\"z\" : it"
   ]
  },
  {
   "cell_type": "code",
   "execution_count": 24,
   "id": "1f8ebdbd-a316-4460-af04-6d7866d6e4bf",
   "metadata": {},
   "outputs": [
    {
     "data": {
      "text/plain": [
       "Just 1"
      ]
     },
     "metadata": {},
     "output_type": "display_data"
    },
    {
     "data": {
      "text/plain": [
       "Just 2"
      ]
     },
     "metadata": {},
     "output_type": "display_data"
    },
    {
     "data": {
      "text/plain": [
       "Just 0"
      ]
     },
     "metadata": {},
     "output_type": "display_data"
    },
    {
     "data": {
      "text/plain": [
       "Nothing"
      ]
     },
     "metadata": {},
     "output_type": "display_data"
    }
   ],
   "source": [
    "elemIndex \"x\" [\"z\",\"x\",\"y\",\"x\"] -- Just 1\n",
    "elemIndex \"y\" [\"z\",\"x\",\"y\",\"x\"] -- Just 2\n",
    "elemIndex \"z\" [\"z\",\"x\",\"y\",\"x\"] -- Just 0\n",
    "elemIndex \"w\" [\"z\",\"x\",\"y\",\"x\"] -- Nothing"
   ]
  },
  {
   "cell_type": "code",
   "execution_count": 25,
   "id": "3d95edad-4013-43cc-a04c-eeea98071485",
   "metadata": {},
   "outputs": [],
   "source": [
    "Just i1 = elemIndex \"x\" [\"z\",\"x\",\"y\",\"x\"] -- Just 1\n",
    "Just i2 = elemIndex \"y\" [\"z\",\"x\",\"y\",\"x\"] -- Just 2\n",
    "Just i0 = elemIndex \"z\" [\"z\",\"x\",\"y\",\"x\"] -- Just 0\n",
    "Just ii = elemIndex \"w\" [\"z\",\"x\",\"y\",\"x\"] -- Nothing"
   ]
  },
  {
   "cell_type": "code",
   "execution_count": 26,
   "id": "008e776c-a9f2-4a25-9e35-0b2322e9d2df",
   "metadata": {},
   "outputs": [
    {
     "data": {
      "text/plain": [
       "1"
      ]
     },
     "metadata": {},
     "output_type": "display_data"
    },
    {
     "data": {
      "text/plain": [
       "2"
      ]
     },
     "metadata": {},
     "output_type": "display_data"
    },
    {
     "data": {
      "text/plain": [
       "0"
      ]
     },
     "metadata": {},
     "output_type": "display_data"
    }
   ],
   "source": [
    "i1\n",
    "i2\n",
    "i0"
   ]
  },
  {
   "cell_type": "code",
   "execution_count": 27,
   "id": "df0ad9aa-4e72-4f8d-b16f-7bee5c15dea1",
   "metadata": {},
   "outputs": [
    {
     "ename": "",
     "evalue": "",
     "output_type": "error",
     "traceback": [
      "<interactive>:4:1-41: Non-exhaustive patterns in Just ii"
     ]
    }
   ],
   "source": [
    "ii -- Nothing은 Just ii와 매칭할 수 없으므로 에러"
   ]
  },
  {
   "cell_type": "code",
   "execution_count": 28,
   "id": "52fecb48-f8e8-4f73-bdfa-3ab98561d66b",
   "metadata": {},
   "outputs": [],
   "source": [
    "lexpr2dexpr :: LExpr -> DExpr\n",
    "lexpr2dexpr e = l2d [] e   -- lexpr2dexpr 함수는 l2d 함수를 활용해 정의\n",
    "\n",
    "l2d :: [Nm] -> LExpr -> DExpr  -- 그러니까 결국 이 함수를 작성하면 됨\n",
    "l2d vs (Var x) = case elemIndex x vs of\n",
    "                  Nothing -> error \"Error\"\n",
    "                  Just i -> DI (i + 1)\n",
    "l2d vs (Abs x e) = DAbs(l2d (vs ++ [x]) e)\n",
    "l2d vs (App e1 e2) = DApp(l2d vs e1)(l2d vs e2)"
   ]
  },
  {
   "cell_type": "code",
   "execution_count": 29,
   "id": "2b65d507-c0d5-490c-9d36-419d86f88420",
   "metadata": {},
   "outputs": [
    {
     "data": {
      "text/plain": [
       "\\(\\1 (2 2)) (\\1 (2 2))"
      ]
     },
     "metadata": {},
     "output_type": "display_data"
    },
    {
     "data": {
      "text/plain": [
       "\\\\\\1"
      ]
     },
     "metadata": {},
     "output_type": "display_data"
    },
    {
     "data": {
      "text/plain": [
       "\\\\2 2"
      ]
     },
     "metadata": {},
     "output_type": "display_data"
    }
   ],
   "source": [
    "-- lexpr2dexpr에 대한 테스트를 3개 이상 작성하라\n",
    "--   * 8장의 Y조합자를 람다식(LExpr)으로 나타내고 lexpr2dexpr 함수로 제대로 변환되는지 테스트도 반드시 하나 포함\n",
    "--   * 같은 파라메터 변수 이름의 람다요약식이 여러 겹 겹쳐 있는 테스트도 반드시 하나 포함\n",
    "--   * 그 외 자유롭게 자신이 작성한 테스트 하나 이상 포함\n",
    "e0 = (Abs \"f\" (App (Abs \"x\" (App (Var \"f\") (App (Var \"x\") (Var \"x\")))) (Abs \"x\" (App (Var \"f\") (App (Var \"x\") (Var \"x\"))))))\n",
    "e1 = Abs \"x\" (Abs \"x\" (Abs \"x\" (Var \"x\")))\n",
    "e2 = Abs \"x\" (Abs \"y\" (App (Var \"y\") (Var \"y\")))\n",
    "\n",
    "lexpr2dexpr e0\n",
    "lexpr2dexpr e1\n",
    "lexpr2dexpr e2"
   ]
  },
  {
   "cell_type": "code",
   "execution_count": null,
   "id": "dc105775-5655-4b31-a6d6-9de3c895f21e",
   "metadata": {},
   "outputs": [],
   "source": []
  },
  {
   "cell_type": "code",
   "execution_count": null,
   "id": "6855f066-0964-47ae-8936-415a1b06bffc",
   "metadata": {},
   "outputs": [],
   "source": []
  },
  {
   "cell_type": "code",
   "execution_count": null,
   "id": "2867e927-81c6-4bf2-b9a4-f06df21e7e44",
   "metadata": {},
   "outputs": [],
   "source": []
  }
 ],
 "metadata": {
  "kernelspec": {
   "display_name": "Haskell",
   "language": "haskell",
   "name": "haskell"
  },
  "language_info": {
   "codemirror_mode": "ihaskell",
   "file_extension": ".hs",
   "mimetype": "text/x-haskell",
   "name": "haskell",
   "pygments_lexer": "Haskell",
   "version": "9.2.5"
  }
 },
 "nbformat": 4,
 "nbformat_minor": 5
}
